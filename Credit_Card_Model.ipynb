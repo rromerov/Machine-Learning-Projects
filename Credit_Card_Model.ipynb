{
  "nbformat": 4,
  "nbformat_minor": 0,
  "metadata": {
    "colab": {
      "provenance": [],
      "authorship_tag": "ABX9TyN4Dc7EeIb8GKSHbShneo2p",
      "include_colab_link": true
    },
    "kernelspec": {
      "name": "python3",
      "display_name": "Python 3"
    },
    "language_info": {
      "name": "python"
    }
  },
  "cells": [
    {
      "cell_type": "markdown",
      "metadata": {
        "id": "view-in-github",
        "colab_type": "text"
      },
      "source": [
        "<a href=\"https://colab.research.google.com/github/rromerov/Machine-Learning-Projects/blob/main/Credit_Card_Model.ipynb\" target=\"_parent\"><img src=\"https://colab.research.google.com/assets/colab-badge.svg\" alt=\"Open In Colab\"/></a>"
      ]
    },
    {
      "cell_type": "code",
      "execution_count": 14,
      "metadata": {
        "id": "jDUMaB5eFvOZ"
      },
      "outputs": [],
      "source": [
        "import pandas as pd\n",
        "import numpy as np\n",
        "\n",
        "\n",
        "from sklearn.model_selection import train_test_split\n",
        "from sklearn.pipeline import Pipeline\n",
        "from sklearn.compose import ColumnTransformer\n",
        "from sklearn.preprocessing import power_transform\n",
        "from sklearn.preprocessing import FunctionTransformer\n",
        "from sklearn.preprocessing import MinMaxScaler, OneHotEncoder, StandardScaler\n",
        "from sklearn.impute import SimpleImputer\n",
        "\n",
        "from sklearn.linear_model import LogisticRegression\n",
        "from sklearn.tree import DecisionTreeClassifier\n",
        "from sklearn.ensemble import RandomForestClassifier\n",
        "\n",
        "from sklearn.metrics import make_scorer\n",
        "from sklearn.metrics import confusion_matrix\n",
        "\n",
        "\n",
        "from sklearn.model_selection import cross_validate\n",
        "from sklearn.model_selection import RepeatedStratifiedKFold\n",
        "from sklearn.model_selection import KFold\n",
        "from sklearn.model_selection import learning_curve, validation_curve\n",
        "from sklearn.model_selection import GridSearchCV\n",
        "\n",
        "\n",
        "import matplotlib.pyplot as plt\n",
        "import seaborn as sns"
      ]
    },
    {
      "cell_type": "markdown",
      "source": [
        "Carga los datos y sustituye los nombres de las columnas del alemán al inglés de acuerdo a como se indica en la página de la UCI. \n"
      ],
      "metadata": {
        "id": "SPZOyKgkHDXg"
      }
    },
    {
      "cell_type": "code",
      "source": [
        "file=\"https://raw.githubusercontent.com/rromerov/Machine-Learning-Projects/main/SouthGermanCredit.asc\"\n",
        "credit=pd.read_table(file,sep=\" \")"
      ],
      "metadata": {
        "id": "SYb2d3-oF28s"
      },
      "execution_count": 15,
      "outputs": []
    },
    {
      "cell_type": "code",
      "source": [
        "credit.head()"
      ],
      "metadata": {
        "colab": {
          "base_uri": "https://localhost:8080/",
          "height": 236
        },
        "id": "Rgoq9jCVG0aN",
        "outputId": "1821067a-3d7e-4cb8-db25-7a0c6f233271"
      },
      "execution_count": 16,
      "outputs": [
        {
          "output_type": "execute_result",
          "data": {
            "text/plain": [
              "   laufkont  laufzeit  moral  verw  hoehe  sparkont  beszeit  rate  famges  \\\n",
              "0         1        18      4     2   1049         1        2     4       2   \n",
              "1         1         9      4     0   2799         1        3     2       3   \n",
              "2         2        12      2     9    841         2        4     2       2   \n",
              "3         1        12      4     0   2122         1        3     3       3   \n",
              "4         1        12      4     0   2171         1        3     4       3   \n",
              "\n",
              "   buerge  ...  verm  alter  weitkred  wohn  bishkred  beruf  pers  telef  \\\n",
              "0       1  ...     2     21         3     1         1      3     2      1   \n",
              "1       1  ...     1     36         3     1         2      3     1      1   \n",
              "2       1  ...     1     23         3     1         1      2     2      1   \n",
              "3       1  ...     1     39         3     1         2      2     1      1   \n",
              "4       1  ...     2     38         1     2         2      2     2      1   \n",
              "\n",
              "   gastarb  kredit  \n",
              "0        2       1  \n",
              "1        2       1  \n",
              "2        2       1  \n",
              "3        1       1  \n",
              "4        1       1  \n",
              "\n",
              "[5 rows x 21 columns]"
            ],
            "text/html": [
              "\n",
              "  <div id=\"df-a0e1940f-49f7-4cef-a550-5c8a2fff0f99\">\n",
              "    <div class=\"colab-df-container\">\n",
              "      <div>\n",
              "<style scoped>\n",
              "    .dataframe tbody tr th:only-of-type {\n",
              "        vertical-align: middle;\n",
              "    }\n",
              "\n",
              "    .dataframe tbody tr th {\n",
              "        vertical-align: top;\n",
              "    }\n",
              "\n",
              "    .dataframe thead th {\n",
              "        text-align: right;\n",
              "    }\n",
              "</style>\n",
              "<table border=\"1\" class=\"dataframe\">\n",
              "  <thead>\n",
              "    <tr style=\"text-align: right;\">\n",
              "      <th></th>\n",
              "      <th>laufkont</th>\n",
              "      <th>laufzeit</th>\n",
              "      <th>moral</th>\n",
              "      <th>verw</th>\n",
              "      <th>hoehe</th>\n",
              "      <th>sparkont</th>\n",
              "      <th>beszeit</th>\n",
              "      <th>rate</th>\n",
              "      <th>famges</th>\n",
              "      <th>buerge</th>\n",
              "      <th>...</th>\n",
              "      <th>verm</th>\n",
              "      <th>alter</th>\n",
              "      <th>weitkred</th>\n",
              "      <th>wohn</th>\n",
              "      <th>bishkred</th>\n",
              "      <th>beruf</th>\n",
              "      <th>pers</th>\n",
              "      <th>telef</th>\n",
              "      <th>gastarb</th>\n",
              "      <th>kredit</th>\n",
              "    </tr>\n",
              "  </thead>\n",
              "  <tbody>\n",
              "    <tr>\n",
              "      <th>0</th>\n",
              "      <td>1</td>\n",
              "      <td>18</td>\n",
              "      <td>4</td>\n",
              "      <td>2</td>\n",
              "      <td>1049</td>\n",
              "      <td>1</td>\n",
              "      <td>2</td>\n",
              "      <td>4</td>\n",
              "      <td>2</td>\n",
              "      <td>1</td>\n",
              "      <td>...</td>\n",
              "      <td>2</td>\n",
              "      <td>21</td>\n",
              "      <td>3</td>\n",
              "      <td>1</td>\n",
              "      <td>1</td>\n",
              "      <td>3</td>\n",
              "      <td>2</td>\n",
              "      <td>1</td>\n",
              "      <td>2</td>\n",
              "      <td>1</td>\n",
              "    </tr>\n",
              "    <tr>\n",
              "      <th>1</th>\n",
              "      <td>1</td>\n",
              "      <td>9</td>\n",
              "      <td>4</td>\n",
              "      <td>0</td>\n",
              "      <td>2799</td>\n",
              "      <td>1</td>\n",
              "      <td>3</td>\n",
              "      <td>2</td>\n",
              "      <td>3</td>\n",
              "      <td>1</td>\n",
              "      <td>...</td>\n",
              "      <td>1</td>\n",
              "      <td>36</td>\n",
              "      <td>3</td>\n",
              "      <td>1</td>\n",
              "      <td>2</td>\n",
              "      <td>3</td>\n",
              "      <td>1</td>\n",
              "      <td>1</td>\n",
              "      <td>2</td>\n",
              "      <td>1</td>\n",
              "    </tr>\n",
              "    <tr>\n",
              "      <th>2</th>\n",
              "      <td>2</td>\n",
              "      <td>12</td>\n",
              "      <td>2</td>\n",
              "      <td>9</td>\n",
              "      <td>841</td>\n",
              "      <td>2</td>\n",
              "      <td>4</td>\n",
              "      <td>2</td>\n",
              "      <td>2</td>\n",
              "      <td>1</td>\n",
              "      <td>...</td>\n",
              "      <td>1</td>\n",
              "      <td>23</td>\n",
              "      <td>3</td>\n",
              "      <td>1</td>\n",
              "      <td>1</td>\n",
              "      <td>2</td>\n",
              "      <td>2</td>\n",
              "      <td>1</td>\n",
              "      <td>2</td>\n",
              "      <td>1</td>\n",
              "    </tr>\n",
              "    <tr>\n",
              "      <th>3</th>\n",
              "      <td>1</td>\n",
              "      <td>12</td>\n",
              "      <td>4</td>\n",
              "      <td>0</td>\n",
              "      <td>2122</td>\n",
              "      <td>1</td>\n",
              "      <td>3</td>\n",
              "      <td>3</td>\n",
              "      <td>3</td>\n",
              "      <td>1</td>\n",
              "      <td>...</td>\n",
              "      <td>1</td>\n",
              "      <td>39</td>\n",
              "      <td>3</td>\n",
              "      <td>1</td>\n",
              "      <td>2</td>\n",
              "      <td>2</td>\n",
              "      <td>1</td>\n",
              "      <td>1</td>\n",
              "      <td>1</td>\n",
              "      <td>1</td>\n",
              "    </tr>\n",
              "    <tr>\n",
              "      <th>4</th>\n",
              "      <td>1</td>\n",
              "      <td>12</td>\n",
              "      <td>4</td>\n",
              "      <td>0</td>\n",
              "      <td>2171</td>\n",
              "      <td>1</td>\n",
              "      <td>3</td>\n",
              "      <td>4</td>\n",
              "      <td>3</td>\n",
              "      <td>1</td>\n",
              "      <td>...</td>\n",
              "      <td>2</td>\n",
              "      <td>38</td>\n",
              "      <td>1</td>\n",
              "      <td>2</td>\n",
              "      <td>2</td>\n",
              "      <td>2</td>\n",
              "      <td>2</td>\n",
              "      <td>1</td>\n",
              "      <td>1</td>\n",
              "      <td>1</td>\n",
              "    </tr>\n",
              "  </tbody>\n",
              "</table>\n",
              "<p>5 rows × 21 columns</p>\n",
              "</div>\n",
              "      <button class=\"colab-df-convert\" onclick=\"convertToInteractive('df-a0e1940f-49f7-4cef-a550-5c8a2fff0f99')\"\n",
              "              title=\"Convert this dataframe to an interactive table.\"\n",
              "              style=\"display:none;\">\n",
              "        \n",
              "  <svg xmlns=\"http://www.w3.org/2000/svg\" height=\"24px\"viewBox=\"0 0 24 24\"\n",
              "       width=\"24px\">\n",
              "    <path d=\"M0 0h24v24H0V0z\" fill=\"none\"/>\n",
              "    <path d=\"M18.56 5.44l.94 2.06.94-2.06 2.06-.94-2.06-.94-.94-2.06-.94 2.06-2.06.94zm-11 1L8.5 8.5l.94-2.06 2.06-.94-2.06-.94L8.5 2.5l-.94 2.06-2.06.94zm10 10l.94 2.06.94-2.06 2.06-.94-2.06-.94-.94-2.06-.94 2.06-2.06.94z\"/><path d=\"M17.41 7.96l-1.37-1.37c-.4-.4-.92-.59-1.43-.59-.52 0-1.04.2-1.43.59L10.3 9.45l-7.72 7.72c-.78.78-.78 2.05 0 2.83L4 21.41c.39.39.9.59 1.41.59.51 0 1.02-.2 1.41-.59l7.78-7.78 2.81-2.81c.8-.78.8-2.07 0-2.86zM5.41 20L4 18.59l7.72-7.72 1.47 1.35L5.41 20z\"/>\n",
              "  </svg>\n",
              "      </button>\n",
              "      \n",
              "  <style>\n",
              "    .colab-df-container {\n",
              "      display:flex;\n",
              "      flex-wrap:wrap;\n",
              "      gap: 12px;\n",
              "    }\n",
              "\n",
              "    .colab-df-convert {\n",
              "      background-color: #E8F0FE;\n",
              "      border: none;\n",
              "      border-radius: 50%;\n",
              "      cursor: pointer;\n",
              "      display: none;\n",
              "      fill: #1967D2;\n",
              "      height: 32px;\n",
              "      padding: 0 0 0 0;\n",
              "      width: 32px;\n",
              "    }\n",
              "\n",
              "    .colab-df-convert:hover {\n",
              "      background-color: #E2EBFA;\n",
              "      box-shadow: 0px 1px 2px rgba(60, 64, 67, 0.3), 0px 1px 3px 1px rgba(60, 64, 67, 0.15);\n",
              "      fill: #174EA6;\n",
              "    }\n",
              "\n",
              "    [theme=dark] .colab-df-convert {\n",
              "      background-color: #3B4455;\n",
              "      fill: #D2E3FC;\n",
              "    }\n",
              "\n",
              "    [theme=dark] .colab-df-convert:hover {\n",
              "      background-color: #434B5C;\n",
              "      box-shadow: 0px 1px 3px 1px rgba(0, 0, 0, 0.15);\n",
              "      filter: drop-shadow(0px 1px 2px rgba(0, 0, 0, 0.3));\n",
              "      fill: #FFFFFF;\n",
              "    }\n",
              "  </style>\n",
              "\n",
              "      <script>\n",
              "        const buttonEl =\n",
              "          document.querySelector('#df-a0e1940f-49f7-4cef-a550-5c8a2fff0f99 button.colab-df-convert');\n",
              "        buttonEl.style.display =\n",
              "          google.colab.kernel.accessAllowed ? 'block' : 'none';\n",
              "\n",
              "        async function convertToInteractive(key) {\n",
              "          const element = document.querySelector('#df-a0e1940f-49f7-4cef-a550-5c8a2fff0f99');\n",
              "          const dataTable =\n",
              "            await google.colab.kernel.invokeFunction('convertToInteractive',\n",
              "                                                     [key], {});\n",
              "          if (!dataTable) return;\n",
              "\n",
              "          const docLinkHtml = 'Like what you see? Visit the ' +\n",
              "            '<a target=\"_blank\" href=https://colab.research.google.com/notebooks/data_table.ipynb>data table notebook</a>'\n",
              "            + ' to learn more about interactive tables.';\n",
              "          element.innerHTML = '';\n",
              "          dataTable['output_type'] = 'display_data';\n",
              "          await google.colab.output.renderOutput(dataTable, element);\n",
              "          const docLink = document.createElement('div');\n",
              "          docLink.innerHTML = docLinkHtml;\n",
              "          element.appendChild(docLink);\n",
              "        }\n",
              "      </script>\n",
              "    </div>\n",
              "  </div>\n",
              "  "
            ]
          },
          "metadata": {},
          "execution_count": 16
        }
      ]
    },
    {
      "cell_type": "code",
      "source": [
        "columns_name=[\"status\",\"duration\",\"credit_history\",\"purpose\",\"amount\",\"savings\",\"employment_duration\",\"installment_rate\",\"personal_status_sex\",\"other_debtors\",\"present_residence\",\"property\",\"age\",\"other_installment_plans\",\"housing\",\"number_credits\",\"job\",\"people_liable\",\"telephone\",\"foreign_worker\",\"credit_risk\"]\n",
        "credit.columns=columns_name"
      ],
      "metadata": {
        "id": "gu9rMgFhHI-c"
      },
      "execution_count": 17,
      "outputs": []
    },
    {
      "cell_type": "code",
      "source": [
        "credit.head()"
      ],
      "metadata": {
        "id": "8G7k1u2zMkwJ",
        "outputId": "188e5524-5ec0-468b-9be5-2d1624502b53",
        "colab": {
          "base_uri": "https://localhost:8080/",
          "height": 300
        }
      },
      "execution_count": 18,
      "outputs": [
        {
          "output_type": "execute_result",
          "data": {
            "text/plain": [
              "   status  duration  credit_history  purpose  amount  savings  \\\n",
              "0       1        18               4        2    1049        1   \n",
              "1       1         9               4        0    2799        1   \n",
              "2       2        12               2        9     841        2   \n",
              "3       1        12               4        0    2122        1   \n",
              "4       1        12               4        0    2171        1   \n",
              "\n",
              "   employment_duration  installment_rate  personal_status_sex  other_debtors  \\\n",
              "0                    2                 4                    2              1   \n",
              "1                    3                 2                    3              1   \n",
              "2                    4                 2                    2              1   \n",
              "3                    3                 3                    3              1   \n",
              "4                    3                 4                    3              1   \n",
              "\n",
              "   ...  property  age  other_installment_plans  housing  number_credits  job  \\\n",
              "0  ...         2   21                        3        1               1    3   \n",
              "1  ...         1   36                        3        1               2    3   \n",
              "2  ...         1   23                        3        1               1    2   \n",
              "3  ...         1   39                        3        1               2    2   \n",
              "4  ...         2   38                        1        2               2    2   \n",
              "\n",
              "   people_liable  telephone  foreign_worker  credit_risk  \n",
              "0              2          1               2            1  \n",
              "1              1          1               2            1  \n",
              "2              2          1               2            1  \n",
              "3              1          1               1            1  \n",
              "4              2          1               1            1  \n",
              "\n",
              "[5 rows x 21 columns]"
            ],
            "text/html": [
              "\n",
              "  <div id=\"df-03bc859c-3123-4083-b85a-af9f60195df3\">\n",
              "    <div class=\"colab-df-container\">\n",
              "      <div>\n",
              "<style scoped>\n",
              "    .dataframe tbody tr th:only-of-type {\n",
              "        vertical-align: middle;\n",
              "    }\n",
              "\n",
              "    .dataframe tbody tr th {\n",
              "        vertical-align: top;\n",
              "    }\n",
              "\n",
              "    .dataframe thead th {\n",
              "        text-align: right;\n",
              "    }\n",
              "</style>\n",
              "<table border=\"1\" class=\"dataframe\">\n",
              "  <thead>\n",
              "    <tr style=\"text-align: right;\">\n",
              "      <th></th>\n",
              "      <th>status</th>\n",
              "      <th>duration</th>\n",
              "      <th>credit_history</th>\n",
              "      <th>purpose</th>\n",
              "      <th>amount</th>\n",
              "      <th>savings</th>\n",
              "      <th>employment_duration</th>\n",
              "      <th>installment_rate</th>\n",
              "      <th>personal_status_sex</th>\n",
              "      <th>other_debtors</th>\n",
              "      <th>...</th>\n",
              "      <th>property</th>\n",
              "      <th>age</th>\n",
              "      <th>other_installment_plans</th>\n",
              "      <th>housing</th>\n",
              "      <th>number_credits</th>\n",
              "      <th>job</th>\n",
              "      <th>people_liable</th>\n",
              "      <th>telephone</th>\n",
              "      <th>foreign_worker</th>\n",
              "      <th>credit_risk</th>\n",
              "    </tr>\n",
              "  </thead>\n",
              "  <tbody>\n",
              "    <tr>\n",
              "      <th>0</th>\n",
              "      <td>1</td>\n",
              "      <td>18</td>\n",
              "      <td>4</td>\n",
              "      <td>2</td>\n",
              "      <td>1049</td>\n",
              "      <td>1</td>\n",
              "      <td>2</td>\n",
              "      <td>4</td>\n",
              "      <td>2</td>\n",
              "      <td>1</td>\n",
              "      <td>...</td>\n",
              "      <td>2</td>\n",
              "      <td>21</td>\n",
              "      <td>3</td>\n",
              "      <td>1</td>\n",
              "      <td>1</td>\n",
              "      <td>3</td>\n",
              "      <td>2</td>\n",
              "      <td>1</td>\n",
              "      <td>2</td>\n",
              "      <td>1</td>\n",
              "    </tr>\n",
              "    <tr>\n",
              "      <th>1</th>\n",
              "      <td>1</td>\n",
              "      <td>9</td>\n",
              "      <td>4</td>\n",
              "      <td>0</td>\n",
              "      <td>2799</td>\n",
              "      <td>1</td>\n",
              "      <td>3</td>\n",
              "      <td>2</td>\n",
              "      <td>3</td>\n",
              "      <td>1</td>\n",
              "      <td>...</td>\n",
              "      <td>1</td>\n",
              "      <td>36</td>\n",
              "      <td>3</td>\n",
              "      <td>1</td>\n",
              "      <td>2</td>\n",
              "      <td>3</td>\n",
              "      <td>1</td>\n",
              "      <td>1</td>\n",
              "      <td>2</td>\n",
              "      <td>1</td>\n",
              "    </tr>\n",
              "    <tr>\n",
              "      <th>2</th>\n",
              "      <td>2</td>\n",
              "      <td>12</td>\n",
              "      <td>2</td>\n",
              "      <td>9</td>\n",
              "      <td>841</td>\n",
              "      <td>2</td>\n",
              "      <td>4</td>\n",
              "      <td>2</td>\n",
              "      <td>2</td>\n",
              "      <td>1</td>\n",
              "      <td>...</td>\n",
              "      <td>1</td>\n",
              "      <td>23</td>\n",
              "      <td>3</td>\n",
              "      <td>1</td>\n",
              "      <td>1</td>\n",
              "      <td>2</td>\n",
              "      <td>2</td>\n",
              "      <td>1</td>\n",
              "      <td>2</td>\n",
              "      <td>1</td>\n",
              "    </tr>\n",
              "    <tr>\n",
              "      <th>3</th>\n",
              "      <td>1</td>\n",
              "      <td>12</td>\n",
              "      <td>4</td>\n",
              "      <td>0</td>\n",
              "      <td>2122</td>\n",
              "      <td>1</td>\n",
              "      <td>3</td>\n",
              "      <td>3</td>\n",
              "      <td>3</td>\n",
              "      <td>1</td>\n",
              "      <td>...</td>\n",
              "      <td>1</td>\n",
              "      <td>39</td>\n",
              "      <td>3</td>\n",
              "      <td>1</td>\n",
              "      <td>2</td>\n",
              "      <td>2</td>\n",
              "      <td>1</td>\n",
              "      <td>1</td>\n",
              "      <td>1</td>\n",
              "      <td>1</td>\n",
              "    </tr>\n",
              "    <tr>\n",
              "      <th>4</th>\n",
              "      <td>1</td>\n",
              "      <td>12</td>\n",
              "      <td>4</td>\n",
              "      <td>0</td>\n",
              "      <td>2171</td>\n",
              "      <td>1</td>\n",
              "      <td>3</td>\n",
              "      <td>4</td>\n",
              "      <td>3</td>\n",
              "      <td>1</td>\n",
              "      <td>...</td>\n",
              "      <td>2</td>\n",
              "      <td>38</td>\n",
              "      <td>1</td>\n",
              "      <td>2</td>\n",
              "      <td>2</td>\n",
              "      <td>2</td>\n",
              "      <td>2</td>\n",
              "      <td>1</td>\n",
              "      <td>1</td>\n",
              "      <td>1</td>\n",
              "    </tr>\n",
              "  </tbody>\n",
              "</table>\n",
              "<p>5 rows × 21 columns</p>\n",
              "</div>\n",
              "      <button class=\"colab-df-convert\" onclick=\"convertToInteractive('df-03bc859c-3123-4083-b85a-af9f60195df3')\"\n",
              "              title=\"Convert this dataframe to an interactive table.\"\n",
              "              style=\"display:none;\">\n",
              "        \n",
              "  <svg xmlns=\"http://www.w3.org/2000/svg\" height=\"24px\"viewBox=\"0 0 24 24\"\n",
              "       width=\"24px\">\n",
              "    <path d=\"M0 0h24v24H0V0z\" fill=\"none\"/>\n",
              "    <path d=\"M18.56 5.44l.94 2.06.94-2.06 2.06-.94-2.06-.94-.94-2.06-.94 2.06-2.06.94zm-11 1L8.5 8.5l.94-2.06 2.06-.94-2.06-.94L8.5 2.5l-.94 2.06-2.06.94zm10 10l.94 2.06.94-2.06 2.06-.94-2.06-.94-.94-2.06-.94 2.06-2.06.94z\"/><path d=\"M17.41 7.96l-1.37-1.37c-.4-.4-.92-.59-1.43-.59-.52 0-1.04.2-1.43.59L10.3 9.45l-7.72 7.72c-.78.78-.78 2.05 0 2.83L4 21.41c.39.39.9.59 1.41.59.51 0 1.02-.2 1.41-.59l7.78-7.78 2.81-2.81c.8-.78.8-2.07 0-2.86zM5.41 20L4 18.59l7.72-7.72 1.47 1.35L5.41 20z\"/>\n",
              "  </svg>\n",
              "      </button>\n",
              "      \n",
              "  <style>\n",
              "    .colab-df-container {\n",
              "      display:flex;\n",
              "      flex-wrap:wrap;\n",
              "      gap: 12px;\n",
              "    }\n",
              "\n",
              "    .colab-df-convert {\n",
              "      background-color: #E8F0FE;\n",
              "      border: none;\n",
              "      border-radius: 50%;\n",
              "      cursor: pointer;\n",
              "      display: none;\n",
              "      fill: #1967D2;\n",
              "      height: 32px;\n",
              "      padding: 0 0 0 0;\n",
              "      width: 32px;\n",
              "    }\n",
              "\n",
              "    .colab-df-convert:hover {\n",
              "      background-color: #E2EBFA;\n",
              "      box-shadow: 0px 1px 2px rgba(60, 64, 67, 0.3), 0px 1px 3px 1px rgba(60, 64, 67, 0.15);\n",
              "      fill: #174EA6;\n",
              "    }\n",
              "\n",
              "    [theme=dark] .colab-df-convert {\n",
              "      background-color: #3B4455;\n",
              "      fill: #D2E3FC;\n",
              "    }\n",
              "\n",
              "    [theme=dark] .colab-df-convert:hover {\n",
              "      background-color: #434B5C;\n",
              "      box-shadow: 0px 1px 3px 1px rgba(0, 0, 0, 0.15);\n",
              "      filter: drop-shadow(0px 1px 2px rgba(0, 0, 0, 0.3));\n",
              "      fill: #FFFFFF;\n",
              "    }\n",
              "  </style>\n",
              "\n",
              "      <script>\n",
              "        const buttonEl =\n",
              "          document.querySelector('#df-03bc859c-3123-4083-b85a-af9f60195df3 button.colab-df-convert');\n",
              "        buttonEl.style.display =\n",
              "          google.colab.kernel.accessAllowed ? 'block' : 'none';\n",
              "\n",
              "        async function convertToInteractive(key) {\n",
              "          const element = document.querySelector('#df-03bc859c-3123-4083-b85a-af9f60195df3');\n",
              "          const dataTable =\n",
              "            await google.colab.kernel.invokeFunction('convertToInteractive',\n",
              "                                                     [key], {});\n",
              "          if (!dataTable) return;\n",
              "\n",
              "          const docLinkHtml = 'Like what you see? Visit the ' +\n",
              "            '<a target=\"_blank\" href=https://colab.research.google.com/notebooks/data_table.ipynb>data table notebook</a>'\n",
              "            + ' to learn more about interactive tables.';\n",
              "          element.innerHTML = '';\n",
              "          dataTable['output_type'] = 'display_data';\n",
              "          await google.colab.output.renderOutput(dataTable, element);\n",
              "          const docLink = document.createElement('div');\n",
              "          docLink.innerHTML = docLinkHtml;\n",
              "          element.appendChild(docLink);\n",
              "        }\n",
              "      </script>\n",
              "    </div>\n",
              "  </div>\n",
              "  "
            ]
          },
          "metadata": {},
          "execution_count": 18
        }
      ]
    },
    {
      "cell_type": "markdown",
      "source": [
        "Realiza una partición de los datos en el conjunto de entrenamiento del 85% y el de prueba de 15%. Los modelos se estarán entrenando con el método de validación cruzada, así que no es necesario en este paso generar el conjunto de validación. Define como la variable X a todas las variables de entrada y a la variable Y como la variable de salida. \n"
      ],
      "metadata": {
        "id": "qrBG1PMZk8rw"
      }
    },
    {
      "cell_type": "code",
      "source": [
        "X=credit.iloc[:,:-1:]\n",
        "y=credit.iloc[:,-1]"
      ],
      "metadata": {
        "id": "YC7Hkb7QlrLd"
      },
      "execution_count": 19,
      "outputs": []
    },
    {
      "cell_type": "code",
      "source": [
        "X.head()"
      ],
      "metadata": {
        "colab": {
          "base_uri": "https://localhost:8080/",
          "height": 270
        },
        "id": "Qlec_sMglmQJ",
        "outputId": "22d32c13-47d4-466d-be82-ede73e963ac5"
      },
      "execution_count": 20,
      "outputs": [
        {
          "output_type": "execute_result",
          "data": {
            "text/plain": [
              "   status  duration  credit_history  purpose  amount  savings  \\\n",
              "0       1        18               4        2    1049        1   \n",
              "1       1         9               4        0    2799        1   \n",
              "2       2        12               2        9     841        2   \n",
              "3       1        12               4        0    2122        1   \n",
              "4       1        12               4        0    2171        1   \n",
              "\n",
              "   employment_duration  installment_rate  personal_status_sex  other_debtors  \\\n",
              "0                    2                 4                    2              1   \n",
              "1                    3                 2                    3              1   \n",
              "2                    4                 2                    2              1   \n",
              "3                    3                 3                    3              1   \n",
              "4                    3                 4                    3              1   \n",
              "\n",
              "   present_residence  property  age  other_installment_plans  housing  \\\n",
              "0                  4         2   21                        3        1   \n",
              "1                  2         1   36                        3        1   \n",
              "2                  4         1   23                        3        1   \n",
              "3                  2         1   39                        3        1   \n",
              "4                  4         2   38                        1        2   \n",
              "\n",
              "   number_credits  job  people_liable  telephone  foreign_worker  \n",
              "0               1    3              2          1               2  \n",
              "1               2    3              1          1               2  \n",
              "2               1    2              2          1               2  \n",
              "3               2    2              1          1               1  \n",
              "4               2    2              2          1               1  "
            ],
            "text/html": [
              "\n",
              "  <div id=\"df-af2e2e27-a108-42ad-85a9-5c2ed20804bd\">\n",
              "    <div class=\"colab-df-container\">\n",
              "      <div>\n",
              "<style scoped>\n",
              "    .dataframe tbody tr th:only-of-type {\n",
              "        vertical-align: middle;\n",
              "    }\n",
              "\n",
              "    .dataframe tbody tr th {\n",
              "        vertical-align: top;\n",
              "    }\n",
              "\n",
              "    .dataframe thead th {\n",
              "        text-align: right;\n",
              "    }\n",
              "</style>\n",
              "<table border=\"1\" class=\"dataframe\">\n",
              "  <thead>\n",
              "    <tr style=\"text-align: right;\">\n",
              "      <th></th>\n",
              "      <th>status</th>\n",
              "      <th>duration</th>\n",
              "      <th>credit_history</th>\n",
              "      <th>purpose</th>\n",
              "      <th>amount</th>\n",
              "      <th>savings</th>\n",
              "      <th>employment_duration</th>\n",
              "      <th>installment_rate</th>\n",
              "      <th>personal_status_sex</th>\n",
              "      <th>other_debtors</th>\n",
              "      <th>present_residence</th>\n",
              "      <th>property</th>\n",
              "      <th>age</th>\n",
              "      <th>other_installment_plans</th>\n",
              "      <th>housing</th>\n",
              "      <th>number_credits</th>\n",
              "      <th>job</th>\n",
              "      <th>people_liable</th>\n",
              "      <th>telephone</th>\n",
              "      <th>foreign_worker</th>\n",
              "    </tr>\n",
              "  </thead>\n",
              "  <tbody>\n",
              "    <tr>\n",
              "      <th>0</th>\n",
              "      <td>1</td>\n",
              "      <td>18</td>\n",
              "      <td>4</td>\n",
              "      <td>2</td>\n",
              "      <td>1049</td>\n",
              "      <td>1</td>\n",
              "      <td>2</td>\n",
              "      <td>4</td>\n",
              "      <td>2</td>\n",
              "      <td>1</td>\n",
              "      <td>4</td>\n",
              "      <td>2</td>\n",
              "      <td>21</td>\n",
              "      <td>3</td>\n",
              "      <td>1</td>\n",
              "      <td>1</td>\n",
              "      <td>3</td>\n",
              "      <td>2</td>\n",
              "      <td>1</td>\n",
              "      <td>2</td>\n",
              "    </tr>\n",
              "    <tr>\n",
              "      <th>1</th>\n",
              "      <td>1</td>\n",
              "      <td>9</td>\n",
              "      <td>4</td>\n",
              "      <td>0</td>\n",
              "      <td>2799</td>\n",
              "      <td>1</td>\n",
              "      <td>3</td>\n",
              "      <td>2</td>\n",
              "      <td>3</td>\n",
              "      <td>1</td>\n",
              "      <td>2</td>\n",
              "      <td>1</td>\n",
              "      <td>36</td>\n",
              "      <td>3</td>\n",
              "      <td>1</td>\n",
              "      <td>2</td>\n",
              "      <td>3</td>\n",
              "      <td>1</td>\n",
              "      <td>1</td>\n",
              "      <td>2</td>\n",
              "    </tr>\n",
              "    <tr>\n",
              "      <th>2</th>\n",
              "      <td>2</td>\n",
              "      <td>12</td>\n",
              "      <td>2</td>\n",
              "      <td>9</td>\n",
              "      <td>841</td>\n",
              "      <td>2</td>\n",
              "      <td>4</td>\n",
              "      <td>2</td>\n",
              "      <td>2</td>\n",
              "      <td>1</td>\n",
              "      <td>4</td>\n",
              "      <td>1</td>\n",
              "      <td>23</td>\n",
              "      <td>3</td>\n",
              "      <td>1</td>\n",
              "      <td>1</td>\n",
              "      <td>2</td>\n",
              "      <td>2</td>\n",
              "      <td>1</td>\n",
              "      <td>2</td>\n",
              "    </tr>\n",
              "    <tr>\n",
              "      <th>3</th>\n",
              "      <td>1</td>\n",
              "      <td>12</td>\n",
              "      <td>4</td>\n",
              "      <td>0</td>\n",
              "      <td>2122</td>\n",
              "      <td>1</td>\n",
              "      <td>3</td>\n",
              "      <td>3</td>\n",
              "      <td>3</td>\n",
              "      <td>1</td>\n",
              "      <td>2</td>\n",
              "      <td>1</td>\n",
              "      <td>39</td>\n",
              "      <td>3</td>\n",
              "      <td>1</td>\n",
              "      <td>2</td>\n",
              "      <td>2</td>\n",
              "      <td>1</td>\n",
              "      <td>1</td>\n",
              "      <td>1</td>\n",
              "    </tr>\n",
              "    <tr>\n",
              "      <th>4</th>\n",
              "      <td>1</td>\n",
              "      <td>12</td>\n",
              "      <td>4</td>\n",
              "      <td>0</td>\n",
              "      <td>2171</td>\n",
              "      <td>1</td>\n",
              "      <td>3</td>\n",
              "      <td>4</td>\n",
              "      <td>3</td>\n",
              "      <td>1</td>\n",
              "      <td>4</td>\n",
              "      <td>2</td>\n",
              "      <td>38</td>\n",
              "      <td>1</td>\n",
              "      <td>2</td>\n",
              "      <td>2</td>\n",
              "      <td>2</td>\n",
              "      <td>2</td>\n",
              "      <td>1</td>\n",
              "      <td>1</td>\n",
              "    </tr>\n",
              "  </tbody>\n",
              "</table>\n",
              "</div>\n",
              "      <button class=\"colab-df-convert\" onclick=\"convertToInteractive('df-af2e2e27-a108-42ad-85a9-5c2ed20804bd')\"\n",
              "              title=\"Convert this dataframe to an interactive table.\"\n",
              "              style=\"display:none;\">\n",
              "        \n",
              "  <svg xmlns=\"http://www.w3.org/2000/svg\" height=\"24px\"viewBox=\"0 0 24 24\"\n",
              "       width=\"24px\">\n",
              "    <path d=\"M0 0h24v24H0V0z\" fill=\"none\"/>\n",
              "    <path d=\"M18.56 5.44l.94 2.06.94-2.06 2.06-.94-2.06-.94-.94-2.06-.94 2.06-2.06.94zm-11 1L8.5 8.5l.94-2.06 2.06-.94-2.06-.94L8.5 2.5l-.94 2.06-2.06.94zm10 10l.94 2.06.94-2.06 2.06-.94-2.06-.94-.94-2.06-.94 2.06-2.06.94z\"/><path d=\"M17.41 7.96l-1.37-1.37c-.4-.4-.92-.59-1.43-.59-.52 0-1.04.2-1.43.59L10.3 9.45l-7.72 7.72c-.78.78-.78 2.05 0 2.83L4 21.41c.39.39.9.59 1.41.59.51 0 1.02-.2 1.41-.59l7.78-7.78 2.81-2.81c.8-.78.8-2.07 0-2.86zM5.41 20L4 18.59l7.72-7.72 1.47 1.35L5.41 20z\"/>\n",
              "  </svg>\n",
              "      </button>\n",
              "      \n",
              "  <style>\n",
              "    .colab-df-container {\n",
              "      display:flex;\n",
              "      flex-wrap:wrap;\n",
              "      gap: 12px;\n",
              "    }\n",
              "\n",
              "    .colab-df-convert {\n",
              "      background-color: #E8F0FE;\n",
              "      border: none;\n",
              "      border-radius: 50%;\n",
              "      cursor: pointer;\n",
              "      display: none;\n",
              "      fill: #1967D2;\n",
              "      height: 32px;\n",
              "      padding: 0 0 0 0;\n",
              "      width: 32px;\n",
              "    }\n",
              "\n",
              "    .colab-df-convert:hover {\n",
              "      background-color: #E2EBFA;\n",
              "      box-shadow: 0px 1px 2px rgba(60, 64, 67, 0.3), 0px 1px 3px 1px rgba(60, 64, 67, 0.15);\n",
              "      fill: #174EA6;\n",
              "    }\n",
              "\n",
              "    [theme=dark] .colab-df-convert {\n",
              "      background-color: #3B4455;\n",
              "      fill: #D2E3FC;\n",
              "    }\n",
              "\n",
              "    [theme=dark] .colab-df-convert:hover {\n",
              "      background-color: #434B5C;\n",
              "      box-shadow: 0px 1px 3px 1px rgba(0, 0, 0, 0.15);\n",
              "      filter: drop-shadow(0px 1px 2px rgba(0, 0, 0, 0.3));\n",
              "      fill: #FFFFFF;\n",
              "    }\n",
              "  </style>\n",
              "\n",
              "      <script>\n",
              "        const buttonEl =\n",
              "          document.querySelector('#df-af2e2e27-a108-42ad-85a9-5c2ed20804bd button.colab-df-convert');\n",
              "        buttonEl.style.display =\n",
              "          google.colab.kernel.accessAllowed ? 'block' : 'none';\n",
              "\n",
              "        async function convertToInteractive(key) {\n",
              "          const element = document.querySelector('#df-af2e2e27-a108-42ad-85a9-5c2ed20804bd');\n",
              "          const dataTable =\n",
              "            await google.colab.kernel.invokeFunction('convertToInteractive',\n",
              "                                                     [key], {});\n",
              "          if (!dataTable) return;\n",
              "\n",
              "          const docLinkHtml = 'Like what you see? Visit the ' +\n",
              "            '<a target=\"_blank\" href=https://colab.research.google.com/notebooks/data_table.ipynb>data table notebook</a>'\n",
              "            + ' to learn more about interactive tables.';\n",
              "          element.innerHTML = '';\n",
              "          dataTable['output_type'] = 'display_data';\n",
              "          await google.colab.output.renderOutput(dataTable, element);\n",
              "          const docLink = document.createElement('div');\n",
              "          docLink.innerHTML = docLinkHtml;\n",
              "          element.appendChild(docLink);\n",
              "        }\n",
              "      </script>\n",
              "    </div>\n",
              "  </div>\n",
              "  "
            ]
          },
          "metadata": {},
          "execution_count": 20
        }
      ]
    },
    {
      "cell_type": "code",
      "source": [
        "X_tv,X_test,y_tv,y_test=train_test_split(X,y,test_size=0.15,random_state=1)"
      ],
      "metadata": {
        "id": "-pSnnt7SlCxN"
      },
      "execution_count": 21,
      "outputs": []
    },
    {
      "cell_type": "markdown",
      "source": [
        " Como una primera aproximación (baseline) realizarás las siguientes transformaciones mínimas\n",
        "para generar los primeros modelos. En la misma página de la UCI se indica el tipo de variable de\n",
        "cada uno de los factores. Definen cuatro tipo de variables: categórica (categorical), ordinal\n",
        "(discretized quantitative), numérica (quantitative) y binaria (binary). Con base a dicha\n",
        "información realiza un Pipeline que incluya al menos las siguientes transformaciones:\n",
        "\n",
        "a. Imputación a todas las variables de entrada, diferenciando entre el tipo de cada variable\n",
        "(decide y justifica que tipo de imputación realizas en cada caso)."
      ],
      "metadata": {
        "id": "ebayL0XbRpqm"
      }
    },
    {
      "cell_type": "markdown",
      "source": [
        "b. Realiza un análisis de las variables numéricas (quantitative) de entrada y aplica una transformación que escale a todas ellas en un rango equiparable.\n",
        "\n"
      ],
      "metadata": {
        "id": "3atmVKBZUiKE"
      }
    },
    {
      "cell_type": "markdown",
      "source": [
        "c. Aplica la transformación One-Hot encoding a las variables de entrada de tipo categórico y binaria. En particular, justifica por qué una variable binaria requeriría que se le aplique la\n",
        "transformació"
      ],
      "metadata": {
        "id": "SO2sYCivUjqR"
      }
    },
    {
      "cell_type": "code",
      "source": [
        "numeric_features=[\"duration\",\"amount\",\"age\"]\n",
        "numeric_pipeline = Pipeline(\n",
        "    steps=[(\"Mednum\", SimpleImputer(strategy=\"median\")), (\"Stdnum\",StandardScaler())]\n",
        ")\n",
        "\n",
        "categorical_features =[\"status\",\"credit_history\",\"purpose\",\"savings\",\"personal_status_sex\",\"other_debtors\",\"other_installment_plans\",\"housing\"]\n",
        "categorical_pipeline=Pipeline(\n",
        "    steps=[(\"Modacat\", SimpleImputer(strategy=\"most_frequent\")),(\"OHEcat\",OneHotEncoder(handle_unknown=\"ignore\"))]\n",
        ")\n",
        "\n",
        "ordinal_features=[\"employment_duration\",\"installment_rate\",\"present_residence\",\"property\",\"number_credits\",\"job\"]\n",
        "ordinal_pipeline=Pipeline(\n",
        "    steps=[(\"Modaord\",SimpleImputer(strategy=\"most_frequent\")),(\"OHEord\",OneHotEncoder(handle_unknown=\"ignore\"))]\n",
        ")\n",
        "\n",
        "\n",
        "binary_features=[\"people_liable\",\"telephone\",\"foreign_worker\"]\n",
        "binary_pipeline=Pipeline(\n",
        "    steps=[(\"Modabi\",SimpleImputer(strategy=\"most_frequent\")),(\"OHEbi\", OneHotEncoder(handle_unknown=\"ignore\"))]\n",
        ")\n",
        "\n",
        "columnasTransformer = ColumnTransformer(transformers = [('numpipe', numeric_pipeline, numeric_features),\n",
        "                                                        ('catpipe', categorical_pipeline, categorical_features),\n",
        "                                                        ('ordpipe', ordinal_pipeline, ordinal_features),\n",
        "                                                        ('binpipe', binary_pipeline, binary_features)])"
      ],
      "metadata": {
        "id": "tJ87Lzp9U7Ot"
      },
      "execution_count": 22,
      "outputs": []
    },
    {
      "cell_type": "code",
      "source": [
        "numeric_values=credit[numeric_features].copy()\n",
        "numeric_values.boxplot()"
      ],
      "metadata": {
        "id": "rzSjJB3Y_S_D",
        "outputId": "33561b1c-0eb2-49ad-c9c3-0d8401590e5b",
        "colab": {
          "base_uri": "https://localhost:8080/",
          "height": 282
        }
      },
      "execution_count": 23,
      "outputs": [
        {
          "output_type": "execute_result",
          "data": {
            "text/plain": [
              "<matplotlib.axes._subplots.AxesSubplot at 0x7f5634e03710>"
            ]
          },
          "metadata": {},
          "execution_count": 23
        },
        {
          "output_type": "display_data",
          "data": {
            "text/plain": [
              "<Figure size 432x288 with 1 Axes>"
            ],
            "image/png": "[encoded data removed]"
          },
          "metadata": {
            "needs_background": "light"
          }
        }
      ]
    },
    {
      "cell_type": "code",
      "source": [
        "for col in credit.columns:\n",
        "\n",
        "    col_min = credit[col].min()\n",
        "\n",
        "    col_mean = credit[col].mean()\n",
        "\n",
        "    col_3q = credit[col].quantile(0.75)\n",
        "\n",
        "    col_max = credit[col].max()\n",
        "\n",
        "    print(f'Column {col:30s} : min:{col_min:5}, mean:{col_mean:10}, 3Q:{col_3q:10}, max:{col_max:5}.')"
      ],
      "metadata": {
        "colab": {
          "base_uri": "https://localhost:8080/"
        },
        "id": "9hl286HHtbtk",
        "outputId": "6e0b09f6-589d-48b1-a94e-183de8c2e9f6"
      },
      "execution_count": 11,
      "outputs": [
        {
          "output_type": "stream",
          "name": "stdout",
          "text": [
            "Column status                         : min:    1, mean:     2.577, 3Q:       4.0, max:    4.\n",
            "Column duration                       : min:    4, mean:    20.903, 3Q:      24.0, max:   72.\n",
            "Column credit_history                 : min:    0, mean:     2.545, 3Q:       4.0, max:    4.\n",
            "Column purpose                        : min:    0, mean:     2.828, 3Q:       3.0, max:   10.\n",
            "Column amount                         : min:  250, mean:  3271.248, 3Q:   3972.25, max:18424.\n",
            "Column savings                        : min:    1, mean:     2.105, 3Q:       3.0, max:    5.\n",
            "Column employment_duration            : min:    1, mean:     3.384, 3Q:       5.0, max:    5.\n",
            "Column installment_rate               : min:    1, mean:     2.973, 3Q:       4.0, max:    4.\n",
            "Column personal_status_sex            : min:    1, mean:     2.682, 3Q:       3.0, max:    4.\n",
            "Column other_debtors                  : min:    1, mean:     1.145, 3Q:       1.0, max:    3.\n",
            "Column present_residence              : min:    1, mean:     2.845, 3Q:       4.0, max:    4.\n",
            "Column property                       : min:    1, mean:     2.358, 3Q:       3.0, max:    4.\n",
            "Column age                            : min:   19, mean:    35.542, 3Q:      42.0, max:   75.\n",
            "Column other_installment_plans        : min:    1, mean:     2.675, 3Q:       3.0, max:    3.\n",
            "Column housing                        : min:    1, mean:     1.928, 3Q:       2.0, max:    3.\n",
            "Column number_credits                 : min:    1, mean:     1.407, 3Q:       2.0, max:    4.\n",
            "Column job                            : min:    1, mean:     2.904, 3Q:       3.0, max:    4.\n",
            "Column people_liable                  : min:    1, mean:     1.845, 3Q:       2.0, max:    2.\n",
            "Column telephone                      : min:    1, mean:     1.404, 3Q:       2.0, max:    2.\n",
            "Column foreign_worker                 : min:    1, mean:     1.963, 3Q:       2.0, max:    2.\n",
            "Column credit_risk                    : min:    0, mean:       0.7, 3Q:       1.0, max:    1.\n"
          ]
        }
      ]
    },
    {
      "cell_type": "code",
      "source": [
        "credit[[\"credit_risk\"]].value_counts()"
      ],
      "metadata": {
        "colab": {
          "base_uri": "https://localhost:8080/"
        },
        "id": "Q011X0yDvN0y",
        "outputId": "94f53c17-cdd6-49c4-d415-ee61d4c27b05"
      },
      "execution_count": 12,
      "outputs": [
        {
          "output_type": "execute_result",
          "data": {
            "text/plain": [
              "credit_risk\n",
              "1              700\n",
              "0              300\n",
              "dtype: int64"
            ]
          },
          "metadata": {},
          "execution_count": 12
        }
      ]
    },
    {
      "cell_type": "markdown",
      "source": [
        "4. Llevarás un entrenamiento usando validación cruzada entre los siguientes tres modelos de\n",
        "aprendizaje automático: Regresión Logística, Árbol de Decisión y Bosque Aleatorio. Deberás\n",
        "llevar a cabo el entrenamiento de los tres de manera conjunta usando un ciclo FOR. Recuerda\n",
        "aplicar las transformaciones que definiste en tu Pipeline. El entrenamiento debe ser con las\n",
        "siguientes características:\n",
        "  \n",
        "  a. Usa los parámetros predeterminados de cada modelo.\n",
        "  \n",
        "  b. En cada iteración deben calcularse todas las siguientes métricas: accuracy, precision,\n",
        "recall, f1-score y Gmean. Todas estas métricas deben ser funciones que tú mismo debes\n",
        "definir (Es decir, no usar las funciones de dichas métricas que te proporciona scikit-learn.\n",
        "Sin embargo, sí puedes usar la información regresada por el método confusion_matrix()\n",
        "de scikit-learn para definir las métricas).\n",
        " \n",
        "  c. Usar validación cruzada estratificada con 5 particiones y con 3 repeticiones.\n",
        " \n",
        "  d. Imprimir el valor de todas estas métricas, tanto para los datos de entrenamiento, como\n",
        "para los de validación. Así como los diagramas de caja y bigotes de los tres modelos con la\n",
        "métrica “recall”. ¿Alguno de los modelos está subentrenado o sobreentrenado? Justifica tu\n",
        "respuesta.\n",
        " \n",
        "  e. En particular obtengamos algunas de las llamadas curvas de aprendizaje para algunos de\n",
        "estos casos. En dada gráfico debes incluir tus comentarios sobre el modelo generado:\n",
        "   \n",
        "    i. Obtener las curvas de aprendizaje (learning_curve) en la cual se va incrementando el tamaño de la muestra para el modelo de regresión Logística con su hiperparámetros predeterminados. Utilizar al menos 20 puntos en la partición de los conjuntos de entrenamiento y la métrica “f1-score”, como evaluación del desempeño de dicha función “learning_curve()”.\n",
        "   \n",
        "    ii. Obtener las curvas de validación (validation_curve) en la cual se va incrementando la complejidad del hiperparámetro “max_depth” para el modelo de árbol de decisión con sus hiperparámetros predeterminados. Utilizar valores de máxima profundidad desde 1 hasta 20 y con la métrica “f1-score” para la evaluación del desempeño del modelo.\n",
        "   \n",
        "    iii. Obtener las curvas de aprendizaje (learning_curve) en la cual se va incrementando el tamaño de la muestra para el modelo de regresión bosque aleatorio (random forest) con su hiperparámetros predeterminados. Utilizar al menos 20 puntos en la partición de los conjuntos de entrenamiento y la métrica “recall”, como evaluación del desempeño del modelo."
      ],
      "metadata": {
        "id": "EU5s6hbvD33B"
      }
    },
    {
      "cell_type": "code",
      "source": [
        "def mi_accuracy(yreal,ypred):\n",
        "  VN,FP,FN,VP=confusion_matrix(yreal,ypred).flatten()\n",
        "  accuracy=(VN+VP)/(VN+FP+FN+VP)\n",
        "  return accuracy\n",
        "\n",
        "def mi_precission(yreal,ypred):\n",
        "  VN,FP,FN,VP=confusion_matrix(yreal,ypred).flatten()\n",
        "  precision=(VP)/(VP+FP)\n",
        "  return precision\n",
        "\n",
        "def mi_recall(yreal,ypred):\n",
        "  VN,FP,FN,VP=confusion_matrix(yreal,ypred).flatten()\n",
        "  recall=(VP)/(VP+FN)\n",
        "  return recall\n",
        "\n",
        "def mi_f1score(yreal,ypred):\n",
        "    VN,FP,FN,VP=confusion_matrix(yreal,ypred).flatten()\n",
        "    recall=(VP)/(VP+FN)\n",
        "    precision=(VP)/(VP+FP)\n",
        "    f1score=(2*recall*precision)/(precision+recall)\n",
        "    return f1score\n",
        "\n",
        "def mi_gmean(yreal,ypred):\n",
        "    VN,FP,FN,VP=confusion_matrix(yreal,ypred).flatten()\n",
        "    recall=(VP)/(VP+FN)\n",
        "    specifity=(VN)/(VN+FP)\n",
        "    gmean=np.sqrt(recall*specifity)\n",
        "    return gmean\n"
      ],
      "metadata": {
        "id": "ztSuT9PfosSa"
      },
      "execution_count": 24,
      "outputs": []
    },
    {
      "cell_type": "code",
      "source": [
        "def get_models():\n",
        "  modelos = list()\n",
        "  nombres = list()\n",
        "\n",
        "  # LR - Regresión Logística:\n",
        "  modelos.append(LogisticRegression())\n",
        "  nombres.append('LR')\n",
        "\n",
        "  # DT - Árbol de Decisión:\n",
        "  modelos.append(DecisionTreeClassifier())\n",
        "  nombres.append('DT')\n",
        "\n",
        "  # RF . Bosque Aleatorio\n",
        "  modelos.append(RandomForestClassifier())\n",
        "  nombres.append('RF')\n",
        "\n",
        "  return modelos, nombres\n"
      ],
      "metadata": {
        "id": "KP09YDw2zc6t"
      },
      "execution_count": 14,
      "outputs": []
    },
    {
      "cell_type": "code",
      "source": [
        "modelos, nombres = get_models()  # cargamos los modelos a comparar\n",
        "resultadosLDR = list()   \n",
        "\n",
        "for i in range(len(modelos)):\n",
        "\n",
        "  pipeline = Pipeline(steps=[('ct',columnasTransformer),('m',modelos[i])])\n",
        "  mismetricas={\"accuracy\":make_scorer(mi_accuracy),\"precission\":make_scorer(mi_precission),\"recall\":make_scorer(mi_recall),\"f1score\":make_scorer(mi_f1score),\"gmean\":make_scorer(mi_gmean)}\n",
        "  kfold = RepeatedStratifiedKFold(n_splits=5, n_repeats=3, random_state=0)\n",
        "  resultados = cross_validate(pipeline, X, y, scoring=mismetricas, cv=kfold, error_score=\"raise\",return_train_score=True)\n",
        "  resultadosLDR.append(resultados)  \n",
        "  print(\"Prueba \\n\") \n",
        "  print('%s:\\nmean Accuracy: %.3f (%.4f)\\nmean Precission: %.3f (%.4f)\\nmeanRecall: %.3f (%.4f)\\nmean F1-Score: %.3f (%.4f)\\nGmean: %.3f (%.4f)\\n' % (nombres[i],\n",
        "                                                                          np.mean(resultados['test_accuracy']),\n",
        "                                                                          np.std(resultados['test_accuracy']), \n",
        "                                                                          np.mean(resultados['test_precission']),\n",
        "                                                                          np.std(resultados['test_precission']),\n",
        "                                                                          np.mean(resultados['test_recall']),\n",
        "                                                                          np.std(resultados['test_recall']), \n",
        "                                                                          np.mean(resultados['test_f1score']),\n",
        "                                                                          np.std(resultados['test_f1score']),                                                                           \n",
        "                                                                          np.mean(resultados['test_gmean']),\n",
        "                                                                          np.std(resultados['test_gmean']),                                                                            \n",
        "                                                                          ))\n",
        "  print(\"Entrenamiento \\n\") \n",
        "  print('%s:\\nmean Accuracy: %.3f (%.4f)\\nmean Precision: %.3f (%.4f)\\nmean Recall: %.3f (%.4f)\\nmean F1score: %.3f (%.4f)\\nGmean: %.3f (%.4f)\\n' % (nombres[i], \n",
        "                                                                          np.mean(resultados['train_accuracy']), np.std(resultados['train_accuracy']),  \n",
        "                                                                          np.mean(resultados['train_precission']), np.std(resultados['train_precission']), \n",
        "                                                                          np.mean(resultados['train_recall']), np.std(resultados['train_recall']),\n",
        "                                                                          np.mean(resultados['train_f1score']), np.std(resultados['train_f1score']), \n",
        "                                                                          np.mean(resultados['train_gmean']), np.std(resultados['train_gmean']) ))"
      ],
      "metadata": {
        "id": "jciWgEWjHPev",
        "colab": {
          "base_uri": "https://localhost:8080/"
        },
        "outputId": "13466177-be54-4ef2-8a0e-7082f5bb3e87"
      },
      "execution_count": 15,
      "outputs": [
        {
          "output_type": "stream",
          "name": "stdout",
          "text": [
            "Prueba \n",
            "\n",
            "LR:\n",
            "mean Accuracy: 0.754 (0.0245)\n",
            "mean Precission: 0.798 (0.0164)\n",
            "meanRecall: 0.868 (0.0306)\n",
            "mean F1-Score: 0.831 (0.0181)\n",
            "Gmean: 0.649 (0.0339)\n",
            "\n",
            "Entrenamiento \n",
            "\n",
            "LR:\n",
            "mean Accuracy: 0.791 (0.0074)\n",
            "mean Precision: 0.819 (0.0064)\n",
            "mean Recall: 0.900 (0.0079)\n",
            "mean F1score: 0.858 (0.0050)\n",
            "Gmean: 0.695 (0.0129)\n",
            "\n",
            "Prueba \n",
            "\n",
            "DT:\n",
            "mean Accuracy: 0.679 (0.0288)\n",
            "mean Precission: 0.773 (0.0188)\n",
            "meanRecall: 0.767 (0.0377)\n",
            "mean F1-Score: 0.769 (0.0239)\n",
            "Gmean: 0.601 (0.0359)\n",
            "\n",
            "Entrenamiento \n",
            "\n",
            "DT:\n",
            "mean Accuracy: 1.000 (0.0000)\n",
            "mean Precision: 1.000 (0.0000)\n",
            "mean Recall: 1.000 (0.0000)\n",
            "mean F1score: 1.000 (0.0000)\n",
            "Gmean: 1.000 (0.0000)\n",
            "\n",
            "Prueba \n",
            "\n",
            "RF:\n",
            "mean Accuracy: 0.758 (0.0193)\n",
            "mean Precission: 0.777 (0.0124)\n",
            "meanRecall: 0.917 (0.0239)\n",
            "mean F1-Score: 0.841 (0.0133)\n",
            "Gmean: 0.594 (0.0337)\n",
            "\n",
            "Entrenamiento \n",
            "\n",
            "RF:\n",
            "mean Accuracy: 1.000 (0.0000)\n",
            "mean Precision: 1.000 (0.0000)\n",
            "mean Recall: 1.000 (0.0000)\n",
            "mean F1score: 1.000 (0.0000)\n",
            "Gmean: 1.000 (0.0000)\n",
            "\n"
          ]
        }
      ]
    },
    {
      "cell_type": "code",
      "source": [
        "sns.set(rc={'figure.figsize':(8,4)})\n",
        "\n",
        "bpRecall = list()\n",
        "for i in range(len(resultadosLDR)):\n",
        "  rr = resultadosLDR[i]['test_recall']\n",
        "  bpRecall.append(rr)\n",
        "\n",
        "plt.boxplot(bpRecall, labels=nombres, showmeans=True)\n",
        "plt.show()"
      ],
      "metadata": {
        "id": "f6V7Aq7Qv0zS",
        "outputId": "822f8095-a80d-48b4-b000-73d9f7808ecd",
        "colab": {
          "base_uri": "https://localhost:8080/",
          "height": 272
        }
      },
      "execution_count": 16,
      "outputs": [
        {
          "output_type": "display_data",
          "data": {
            "text/plain": [
              "<Figure size 576x288 with 1 Axes>"
            ],
            "image/png": "[encoded data removed]"
          },
          "metadata": {}
        }
      ]
    },
    {
      "cell_type": "code",
      "source": [
        "def mi_LearningCurvePlot(train_sizes, train_scores, val_scores):\n",
        "\n",
        "    # Argumentos de entrada de la función mi_LearningCurvePlot:\n",
        "    #      train_sizes : número de observaciones en el conjunto de entrenamiento.\n",
        "    #      train_scores : Exactitud de cada partición en el proceso de Validación-Cruzada (VC) en los datos de entrenamiento.\n",
        "    #                     La dimensión de este conjunto es (pxq) \n",
        "    #                                     donde p=\"número de particiones de manera incremental del conjunto de entrenamiento\".\n",
        "    #                                           q=\"número de particiones de VC\" * \"número de repeticiones de VC con RepitedStratifiedCV\"\n",
        "    #      val_scores : Exactitud de cada partición en el proceso de Validación-Cruzada en los datos de validación.\n",
        "    #                   Es de la misma dimensión que los train_scores. \n",
        "    # Output: la salida es el gráfico con las curvas de aprendizaje.\n",
        "\n",
        "    # Obtenemos los promedios y desviaciones estándar de cada renglón de los resultados de entrenamiento y validación\n",
        "    # La dimensión de cada uno es p=\"número de particiones de manera incremental del conjunto de entrenamiento\".\n",
        "    train_mean = np.mean(train_scores, axis=1)\n",
        "    train_std = np.std(train_scores, axis=1)\n",
        "    val_mean = np.mean(val_scores, axis=1)\n",
        "    val_std = np.std(val_scores, axis=1)\n",
        "\n",
        "    # Graficamos las curvas de aprendizaje incluyendo una región indicando la desviación estándar.\n",
        "    plt.figure(figsize=(7,6))\n",
        "    plt.plot(train_sizes, train_mean, color='blue', marker='o', markersize=5, label='Training')\n",
        "    plt.fill_between(train_sizes, train_mean + train_std, train_mean - train_std, alpha=0.1, color='blue')\n",
        "    \n",
        "    plt.plot(train_sizes, val_mean, color='red', marker='+', markersize=5, linestyle='--', label='Validation')\n",
        "    plt.fill_between(train_sizes, val_mean + val_std, val_mean - val_std, alpha=0.1, color='red')\n",
        "    \n",
        "    plt.title('Curvas de Aprendizaje incrementando el tamaño de la muestra')\n",
        "    plt.xlabel('Tamaño del conjunto de entrenamiento')\n",
        "    plt.ylabel('F1-Score')\n",
        "    plt.grid()\n",
        "    plt.legend(loc='lower left')\n",
        "    plt.show()"
      ],
      "metadata": {
        "id": "Hn5l6xTW6Nt9"
      },
      "execution_count": 32,
      "outputs": []
    },
    {
      "cell_type": "code",
      "source": [
        "def mi_ModeloYCurvas(Xin):\n",
        "       # Usemos primeramente el modelo de regresión logística\n",
        "       # con sus parámetros predeterminados y semilla igual a 1.\n",
        "       # Incremenetamos además el máximo de iteraciones para \n",
        "       # asegurar la convergencia de cada partición de la VC.\n",
        "\n",
        "       modelo = LogisticRegression(max_iter=2500, random_state=1)\n",
        "\n",
        "       ########################################################################\n",
        "       # INICIA LA SECCIÓN PARA AGREGAR CÓDIGO.\n",
        "       # Ejercicio 2\n",
        "       # Sustituye \"None\" por el código que se te indica.\n",
        "\n",
        "     \n",
        "       # Ejercicio 2.1: Define el pipeline como se te indicó:\n",
        "       # Se espera una línea de código.\n",
        "\n",
        "       mi_pipe =  Pipeline(steps=[(\"ct\", columnasTransformer), (\"modelo\", modelo)])\n",
        "\n",
        "\n",
        "       # Ejercicio 2.2: Aplica validación cruzada estratificada y con repeticiones.\n",
        "       #                Solo define los tres argumentos que se te indicaron.\n",
        "       # Se espera una línea de código.\n",
        "\n",
        "       mi_kfold = RepeatedStratifiedKFold(n_splits=5,n_repeats=3,random_state=7)\n",
        "\n",
        "\n",
        "       # Ejercicio 2.3: Genera un arreglo con los 40 valores de los tamaños de muestra:\n",
        "       # Se espera una línea de código.\n",
        "       \n",
        "       delta_train_sz = np.linspace(0.1,1.0,40)\n",
        "\n",
        "\n",
        "       # Ejercicio 2.4:: Incluye los argumentos que se te indican a la \n",
        "       # función learning_curve. Solo sustituye \"None\" por el valor del\n",
        "       # argumento adecuado en cada caso.\n",
        "\n",
        "       tr_sizes, tr_scores, val_scores = learning_curve(estimator = mi_pipe ,    \n",
        "                                                        X = Xin,\n",
        "                                                        y = y_tv,\n",
        "                                                        cv = mi_kfold ,\n",
        "                                                        train_sizes = delta_train_sz ,\n",
        "                                                        scoring=make_scorer(mi_f1score),\n",
        "                                                        random_state=10)\n",
        "       \n",
        "       # TERMINA LA SECCIÓN PARA AGREGAR CÓDIGO.\n",
        "       ######################################################################\n",
        "\n",
        "\n",
        "       # Obtenemos el gráfico con las curvas de aprendizaje:\n",
        "       mi_LearningCurvePlot(tr_sizes, tr_scores, val_scores)\n"
      ],
      "metadata": {
        "id": "zheMUshW60kb"
      },
      "execution_count": 25,
      "outputs": []
    },
    {
      "cell_type": "code",
      "source": [
        "print('Curvas de aprendizaje del modelo lineal:')\n",
        "mi_ModeloYCurvas(X_tv)"
      ],
      "metadata": {
        "id": "LhljvUBZ7aI8",
        "outputId": "06be1794-2df5-42f4-80ee-376a18a34fe5",
        "colab": {
          "base_uri": "https://localhost:8080/",
          "height": 427
        }
      },
      "execution_count": 26,
      "outputs": [
        {
          "output_type": "stream",
          "name": "stdout",
          "text": [
            "Curvas de aprendizaje del modelo lineal:\n"
          ]
        },
        {
          "output_type": "display_data",
          "data": {
            "text/plain": [
              "<Figure size 504x432 with 1 Axes>"
            ],
            "image/png": "[encoded data removed]"
          },
          "metadata": {}
        }
      ]
    },
    {
      "cell_type": "code",
      "source": [
        "def mi_ValidationCurvePlot(train_sizes, train_scores, val_scores):\n",
        "\n",
        "    # Argumentos de entrada de la función mi_LearningCurvePlot:\n",
        "    #      train_sizes : número de observaciones en el conjunto de entrenamiento.\n",
        "    #      train_scores : Exactitud de cada partición en el proceso de Validación-Cruzada (VC) en los datos de entrenamiento.\n",
        "    #                     La dimensión de este conjunto es (pxq) \n",
        "    #                                     donde p=\"número de particiones de manera incremental del conjunto de entrenamiento\".\n",
        "    #                                           q=\"número de particiones de VC\" * \"número de repeticiones de VC con RepitedStratifiedCV\"\n",
        "    #      val_scores : Exactitud de cada partición en el proceso de Validación-Cruzada en los datos de validación.\n",
        "    #                   Es de la misma dimensión que los train_scores. \n",
        "    # Output: la salida es el gráfico con las curvas de aprendizaje.\n",
        "\n",
        "    # Obtenemos los promedios y desviaciones estándar de cada renglón de los resultados de entrenamiento y validación\n",
        "    # La dimensión de cada uno es p=\"número de particiones de manera incremental del conjunto de entrenamiento\".\n",
        "    train_mean = np.mean(train_scores, axis=1)\n",
        "    train_std = np.std(train_scores, axis=1)\n",
        "    val_mean = np.mean(val_scores, axis=1)\n",
        "    val_std = np.std(val_scores, axis=1)\n",
        "\n",
        "    # Graficamos las curvas de aprendizaje incluyendo una región indicando la desviación estándar.\n",
        "    plt.figure(figsize=(7,6))\n",
        "    plt.plot(train_sizes, train_mean, color='blue', marker='o', markersize=5, label='Training')\n",
        "    plt.fill_between(train_sizes, train_mean + train_std, train_mean - train_std, alpha=0.1, color='blue')\n",
        "    \n",
        "    plt.plot(train_sizes, val_mean, color='red', marker='+', markersize=5, linestyle='--', label='Validation')\n",
        "    plt.fill_between(train_sizes, val_mean + val_std, val_mean - val_std, alpha=0.1, color='red')\n",
        "    \n",
        "    plt.title('Curvas de Validación incrementando el tamaño de la muestra')\n",
        "    plt.xlabel('Tamaño del conjunto de entrenamiento')\n",
        "    plt.ylabel('F1-Score')\n",
        "    plt.grid()\n",
        "    plt.legend(loc='lower left')\n",
        "    plt.show()"
      ],
      "metadata": {
        "id": "NTrWxKIM7e9i"
      },
      "execution_count": 27,
      "outputs": []
    },
    {
      "cell_type": "code",
      "source": [
        "#Ejercicio de curva de Validación\n",
        "\n",
        "def create_validation_curve (x_val,y_val,param_name,cv_entrada,scoring):\n",
        "  #Recordemos que esta variable modelo es local\n",
        "  #Modelo contendra nuestro arbol de decision con los parametros por default de la funci[on DecisionTreeClassifier()\n",
        "  modelo = DecisionTreeClassifier()\n",
        "  pipe = Pipeline(steps=[(\"Preparainfo\",columnasTransformer),(\"model\",modelo)])\n",
        "  #Pipeline> Paso 1, prepara la informiacion, paso 2 prepara el modelo con el arbol de decisiones\n",
        "  #Creamos el rango indicado Utilizar valores de máxima profundidad desde 1 hasta 20, avanzando del 1 al 30, \n",
        "  #Recorriendo solamente valores enteros, es decir no llevara decimas\n",
        "  rango_param = np.linspace(1, 20, 20,dtype=\"int\")\n",
        "  #Creamos las variables t_scores, v_scores\n",
        "  t_scores, v_scores = validation_curve(\n",
        "      estimator=pipe,\n",
        "      X=x_val, y=y_val, #Param_name contiene el parametro que se debe de aplicar en ese arbol pero lo personalizacmos\n",
        "      param_name=f\"model__{param_name}\", #La variable va a buscar en el paso \"model\" de nuestro pipline el parametro que le indiquemos como argumento al inicio de la funcion\n",
        "      param_range=rango_param, cv=cv_entrada,    # y define dicha variable \n",
        "      scoring=scoring,\n",
        "  )\n",
        "\n",
        "  return rango_param, t_scores, v_scores"
      ],
      "metadata": {
        "id": "-WLPxQ9MCrrE"
      },
      "execution_count": 32,
      "outputs": []
    },
    {
      "cell_type": "code",
      "source": [
        "from scipy.stats import alpha\n",
        "param_range,train_score, validation_score = create_validation_curve(X_tv,y_tv,\"max_depth\",kfold,make_scorer(mi_f1score))\n",
        "train_mean = np.mean(train_score, axis=1)\n",
        "train_std = np.std(train_score, axis=1)\n",
        "test_mean = np.mean(validation_score, axis=1)\n",
        "test_std = np.std(validation_score, axis=1)\n",
        "\n",
        "plt.subplots(1, figsize=(7,7))\n",
        "plt.plot(param_range, train_mean, label=\"Training score\", color=\"black\")\n",
        "plt.plot(param_range, test_mean, label=\"Cross-validation score\", color=\"dimgrey\")\n",
        "\n",
        "plt.fill_between(param_range, train_mean - train_std, train_mean + train_std, color=\"green\",alpha=0.5)\n",
        "plt.fill_between(param_range, test_mean - test_std, test_mean + test_std, color=\"red\",alpha=0.5)\n",
        " \n",
        "plt.title(\"Validation Curve With Random Forest\")\n",
        "plt.xlabel(\"Number Of Trees\")\n",
        "plt.ylabel(\"F1 Score\")\n",
        "plt.tight_layout()\n",
        "plt.legend(loc=\"best\")\n",
        "plt.show()"
      ],
      "metadata": {
        "id": "hlr3EtNJDZJY",
        "outputId": "ce6776f2-1b97-418b-8105-0cc89f5f028f",
        "colab": {
          "base_uri": "https://localhost:8080/",
          "height": 509
        }
      },
      "execution_count": 34,
      "outputs": [
        {
          "output_type": "display_data",
          "data": {
            "text/plain": [
              "<Figure size 504x504 with 1 Axes>"
            ],
            "image/png": "[encoded data removed]"
          },
          "metadata": {}
        }
      ]
    },
    {
      "cell_type": "code",
      "source": [
        "def mi_ModeloRandomForest(Xin):\n",
        "       # Usemos primeramente el modelo de regresión logística\n",
        "       # con sus parámetros predeterminados y semilla igual a 1.\n",
        "       # Incremenetamos además el máximo de iteraciones para \n",
        "       # asegurar la convergencia de cada partición de la VC.\n",
        "\n",
        "       modelo = RandomForestClassifier()\n",
        "\n",
        "       ########################################################################\n",
        "       # INICIA LA SECCIÓN PARA AGREGAR CÓDIGO.\n",
        "       # Ejercicio 2\n",
        "       # Sustituye \"None\" por el código que se te indica.\n",
        "\n",
        "     \n",
        "       # Ejercicio 2.1: Define el pipeline como se te indicó:\n",
        "       # Se espera una línea de código.\n",
        "\n",
        "       mi_pipe =  Pipeline(steps=[(\"ct\", columnasTransformer), (\"modelo\", modelo)])\n",
        "\n",
        "\n",
        "       # Ejercicio 2.2: Aplica validación cruzada estratificada y con repeticiones.\n",
        "       #                Solo define los tres argumentos que se te indicaron.\n",
        "       # Se espera una línea de código.\n",
        "\n",
        "       mi_kfold = RepeatedStratifiedKFold(n_splits=5,n_repeats=3,random_state=7)\n",
        "\n",
        "\n",
        "       # Ejercicio 2.3: Genera un arreglo con los 40 valores de los tamaños de muestra:\n",
        "       # Se espera una línea de código.\n",
        "       \n",
        "       delta_train_sz = np.linspace(0.1,1.0,20)\n",
        "\n",
        "\n",
        "       # Ejercicio 2.4:: Incluye los argumentos que se te indican a la \n",
        "       # función learning_curve. Solo sustituye \"None\" por el valor del\n",
        "       # argumento adecuado en cada caso.\n",
        "\n",
        "       tr_sizes, tr_scores, val_scores = learning_curve(estimator = mi_pipe ,    \n",
        "                                                        X = Xin,\n",
        "                                                        y = y_tv,\n",
        "                                                        cv = mi_kfold ,\n",
        "                                                        train_sizes = delta_train_sz ,\n",
        "                                                        scoring=make_scorer(mi_recall),\n",
        "                                                        random_state=10)\n",
        "       \n",
        "       # TERMINA LA SECCIÓN PARA AGREGAR CÓDIGO.\n",
        "       ######################################################################\n",
        "\n",
        "\n",
        "       # Obtenemos el gráfico con las curvas de aprendizaje:\n",
        "       mi_LearningCurvePlot(tr_sizes, tr_scores, val_scores)"
      ],
      "metadata": {
        "id": "BASsdJdfEs1y"
      },
      "execution_count": 35,
      "outputs": []
    },
    {
      "cell_type": "code",
      "source": [
        "print('Curvas de validación del árbol de decisión:')\n",
        "mi_ModeloRandomForest(X_tv)"
      ],
      "metadata": {
        "id": "bwG8VaWcFKlC",
        "outputId": "67497d14-a93e-43ac-94ba-11e7defd9783",
        "colab": {
          "base_uri": "https://localhost:8080/",
          "height": 427
        }
      },
      "execution_count": 36,
      "outputs": [
        {
          "output_type": "stream",
          "name": "stdout",
          "text": [
            "Curvas de validación del árbol de decisión:\n"
          ]
        },
        {
          "output_type": "display_data",
          "data": {
            "text/plain": [
              "<Figure size 504x432 with 1 Axes>"
            ],
            "image/png": "[encoded data removed]"
          },
          "metadata": {}
        }
      ]
    },
    {
      "cell_type": "markdown",
      "source": [
        "5. Finalmente veamos la manera de mejorar los valores de los hiperparámetros de cada modelo, así \n",
        "como el problema del sobreentrenamiento de algunos de ellos. Para ello deberás usar el método \n",
        "GridSearchCV() de scikit-learn. Recuerda que este método hace una búsqueda de los mejores \n",
        "hiperparámetros de un modelo mediante el llamada formato de malla y aplicando validación \n",
        "cruzada. En cada caso puedes incrementar el máximo de iteraciones,”max_iter” para que tengas \n",
        "la convergencia adecuada para todas las combinaciones en cada modelo. Recuerda también \n",
        "aplicar las transformaciones que definiste en tu Pipeline. Para fines de este ejercicio se ha \n",
        "seleccionado para cada modelo una métrica diferente, que permita irte familiarizando con ellas. \n",
        "Puedes consultar su documentación de GridSearchCV en la siguiente liga: \n",
        "https://scikit-learn.org/stable/modules/generated/sklearn.model_selection.GridSearchCV.html \n",
        "\n",
        "a. Para el modelo de regresión logística realizar el entrenamiento buscando sus mejores \n",
        "hiperparámetros con GridSearchCV(). Los hiperparámetros que debes incluir en su \n",
        "búsqueda deben ser al menos los siguientes: C, solver, class_weight y penalty. En este caso \n",
        "deberás usar la métrica (scoring) “f1-score”. Imprime la mejor combinación de \n",
        "parámetros obtenidos, así como el valor del mejor desempeño (score) obtenido con la \n",
        "métrica f1. ¿Cuál es la utilidad de la métrica “f1-score”? Incluye tus conclusiones. \n",
        "NOTA: Toma en cuenta que no todas las combinaciones de “solver” y “penalty” son \n",
        "posibles, para que lo tomes en cuenta al momento de realizar la búsqueda. Revisa la \n",
        "documentación. \n"
      ],
      "metadata": {
        "id": "wxhOy-PX5FUA"
      }
    },
    {
      "cell_type": "code",
      "source": [
        "logmodel=LogisticRegression(max_iter=9000,random_state=1)\n",
        "log_pipe=Pipeline(steps=[(\"Col\", columnasTransformer),(\"model\", logmodel)])\n",
        "log_kfold=RepeatedStratifiedKFold(n_splits=5, n_repeats=3, random_state=7) \n",
        "\n",
        "paramc=[0.01, 0.1, 1, 10, 100, 1000]\n",
        "\n",
        "paramgr=[{'model__penalty': ['l1'], 'model__solver': [ 'saga','liblinear'], 'model__class_weight':['balanced', None], 'model__C': paramc},\n",
        "                  {'model__penalty': ['l2'], 'model__solver': ['newton-cg', 'lbfgs', 'liblinear', 'sag', 'saga'], 'model__class_weight':['balanced', None], 'model__C': paramc},\n",
        "                  {'model__penalty': ['elasticnet'], 'model__solver': ['saga'], 'model__class_weight':['balanced', None], 'model__C': paramc, 'model__l1_ratio': [0.5]},\n",
        "                 ]\n",
        "\n",
        "gridLog=GridSearchCV(estimator =  log_pipe, \n",
        "                            param_grid = paramgr,\n",
        "                            scoring = make_scorer(mi_f1score), \n",
        "                            cv = log_kfold)\n",
        "\n",
        "gridLog.fit(X_tv,np.ravel(y_tv))"
      ],
      "metadata": {
        "colab": {
          "base_uri": "https://localhost:8080/"
        },
        "id": "ENaR54An5dHP",
        "outputId": "9eaf44d0-2cc1-4c92-d0fa-f201332ae7a3"
      },
      "execution_count": 40,
      "outputs": [
        {
          "output_type": "stream",
          "name": "stderr",
          "text": [
            "/usr/local/lib/python3.7/dist-packages/ipykernel_launcher.py:19: RuntimeWarning: invalid value encountered in long_scalars\n",
            "/usr/local/lib/python3.7/dist-packages/ipykernel_launcher.py:19: RuntimeWarning: invalid value encountered in long_scalars\n",
            "/usr/local/lib/python3.7/dist-packages/ipykernel_launcher.py:19: RuntimeWarning: invalid value encountered in long_scalars\n",
            "/usr/local/lib/python3.7/dist-packages/ipykernel_launcher.py:19: RuntimeWarning: invalid value encountered in long_scalars\n",
            "/usr/local/lib/python3.7/dist-packages/ipykernel_launcher.py:19: RuntimeWarning: invalid value encountered in long_scalars\n",
            "/usr/local/lib/python3.7/dist-packages/ipykernel_launcher.py:19: RuntimeWarning: invalid value encountered in long_scalars\n",
            "/usr/local/lib/python3.7/dist-packages/ipykernel_launcher.py:19: RuntimeWarning: invalid value encountered in long_scalars\n",
            "/usr/local/lib/python3.7/dist-packages/ipykernel_launcher.py:19: RuntimeWarning: invalid value encountered in long_scalars\n",
            "/usr/local/lib/python3.7/dist-packages/ipykernel_launcher.py:19: RuntimeWarning: invalid value encountered in long_scalars\n",
            "/usr/local/lib/python3.7/dist-packages/ipykernel_launcher.py:19: RuntimeWarning: invalid value encountered in long_scalars\n",
            "/usr/local/lib/python3.7/dist-packages/ipykernel_launcher.py:19: RuntimeWarning: invalid value encountered in long_scalars\n",
            "/usr/local/lib/python3.7/dist-packages/ipykernel_launcher.py:19: RuntimeWarning: invalid value encountered in long_scalars\n",
            "/usr/local/lib/python3.7/dist-packages/ipykernel_launcher.py:19: RuntimeWarning: invalid value encountered in long_scalars\n",
            "/usr/local/lib/python3.7/dist-packages/ipykernel_launcher.py:19: RuntimeWarning: invalid value encountered in long_scalars\n",
            "/usr/local/lib/python3.7/dist-packages/ipykernel_launcher.py:19: RuntimeWarning: invalid value encountered in long_scalars\n",
            "/usr/local/lib/python3.7/dist-packages/ipykernel_launcher.py:19: RuntimeWarning: invalid value encountered in long_scalars\n",
            "/usr/local/lib/python3.7/dist-packages/ipykernel_launcher.py:19: RuntimeWarning: invalid value encountered in long_scalars\n",
            "/usr/local/lib/python3.7/dist-packages/ipykernel_launcher.py:19: RuntimeWarning: invalid value encountered in long_scalars\n",
            "/usr/local/lib/python3.7/dist-packages/ipykernel_launcher.py:19: RuntimeWarning: invalid value encountered in long_scalars\n",
            "/usr/local/lib/python3.7/dist-packages/ipykernel_launcher.py:19: RuntimeWarning: invalid value encountered in long_scalars\n",
            "/usr/local/lib/python3.7/dist-packages/ipykernel_launcher.py:19: RuntimeWarning: invalid value encountered in long_scalars\n",
            "/usr/local/lib/python3.7/dist-packages/ipykernel_launcher.py:19: RuntimeWarning: invalid value encountered in long_scalars\n",
            "/usr/local/lib/python3.7/dist-packages/sklearn/model_selection/_search.py:972: UserWarning: One or more of the test scores are non-finite: [       nan        nan 0.82107843 0.82107843 0.74997717 0.75388479\n",
            " 0.82310436 0.82385929 0.78441772 0.78480657 0.83192153 0.83192221\n",
            " 0.77743873 0.77743873 0.82443268 0.82443268 0.77596105 0.77596105\n",
            " 0.82158262 0.82158262 0.77596105 0.77596105 0.82158262 0.82158262\n",
            " 0.78353567 0.78353567 0.78304725 0.78341532 0.78341532 0.82908728\n",
            " 0.82908728 0.82610411 0.82880708 0.82883737 0.78514526 0.78514526\n",
            " 0.78439289 0.78439289 0.78439289 0.83845101 0.83845101 0.8392344\n",
            " 0.83857505 0.83923992 0.78560947 0.78560947 0.78560947 0.78560947\n",
            " 0.78560947 0.82784856 0.82784856 0.82774057 0.82774057 0.82774057\n",
            " 0.77671187 0.77671187 0.77709031 0.77746327 0.77746327 0.82373786\n",
            " 0.82373786 0.82373786 0.82373786 0.82373786 0.77596105 0.77596105\n",
            " 0.77596105 0.77596105 0.77596105 0.82158262 0.82158262 0.82158262\n",
            " 0.82158262 0.82158262 0.77596105 0.77596105 0.77596105 0.77596105\n",
            " 0.77596105 0.82158262 0.82158262 0.82158262 0.82158262 0.82158262\n",
            " 0.75206814 0.82107843 0.77267544 0.83321997 0.7867996  0.83119737\n",
            " 0.77767629 0.82418625 0.77596105 0.82158262 0.77596105 0.82158262]\n",
            "  category=UserWarning,\n"
          ]
        },
        {
          "output_type": "execute_result",
          "data": {
            "text/plain": [
              "GridSearchCV(cv=RepeatedStratifiedKFold(n_repeats=3, n_splits=5, random_state=7),\n",
              "             estimator=Pipeline(steps=[('Col',\n",
              "                                        ColumnTransformer(transformers=[('numpipe',\n",
              "                                                                         Pipeline(steps=[('Mednum',\n",
              "                                                                                          SimpleImputer(strategy='median')),\n",
              "                                                                                         ('Stdnum',\n",
              "                                                                                          StandardScaler())]),\n",
              "                                                                         ['duration',\n",
              "                                                                          'amount',\n",
              "                                                                          'age']),\n",
              "                                                                        ('catpipe',\n",
              "                                                                         Pipeline(steps=[('Modacat',\n",
              "                                                                                          SimpleImputer(strategy='most_frequent'...\n",
              "                         {'model__C': [0.01, 0.1, 1, 10, 100, 1000],\n",
              "                          'model__class_weight': ['balanced', None],\n",
              "                          'model__penalty': ['l2'],\n",
              "                          'model__solver': ['newton-cg', 'lbfgs', 'liblinear',\n",
              "                                            'sag', 'saga']},\n",
              "                         {'model__C': [0.01, 0.1, 1, 10, 100, 1000],\n",
              "                          'model__class_weight': ['balanced', None],\n",
              "                          'model__l1_ratio': [0.5],\n",
              "                          'model__penalty': ['elasticnet'],\n",
              "                          'model__solver': ['saga']}],\n",
              "             scoring=make_scorer(mi_f1score))"
            ]
          },
          "metadata": {},
          "execution_count": 40
        }
      ]
    },
    {
      "cell_type": "code",
      "source": [
        "print(\"El mejor resultado es:\",gridLog.best_score_)\n",
        "print(\"El mejor parámetro es:\",gridLog.best_params_)"
      ],
      "metadata": {
        "id": "pq5w6CfE__6b",
        "outputId": "75f9cec8-eec6-4e8c-ef5e-fbc84cdae568",
        "colab": {
          "base_uri": "https://localhost:8080/"
        }
      },
      "execution_count": 41,
      "outputs": [
        {
          "output_type": "stream",
          "name": "stdout",
          "text": [
            "El mejor resultado es: 0.8392399218133596\n",
            "El mejor parámetro es: {'model__C': 0.1, 'model__class_weight': None, 'model__penalty': 'l2', 'model__solver': 'saga'}\n"
          ]
        }
      ]
    },
    {
      "cell_type": "markdown",
      "source": [
        "b. Con los mejores valores de los hiperparámetros encontrados con la métrica “f1-score” \n",
        "para el modelo de regresión logística, obtener las curvas de aprendizaje (learning curve), \n",
        "incrementando el tamaño del conjunto de entrenamiento al menos 20 veces. Si lo crees \n",
        "adecuado, puedes hacer los ajustes que consideres adecuados para mejorar el resultado y \n",
        "evitar el sobreentrenamiento o el subentrenamiento. \n"
      ],
      "metadata": {
        "id": "2Vr_0daO5dog"
      }
    },
    {
      "cell_type": "code",
      "source": [
        "bestLogmodel=LogisticRegression(C=gridLog.best_params_.get('model__C'),\n",
        "                                solver=gridLog.best_params_.get('model__solver'),\n",
        "                                penalty=gridLog.best_params_.get('model__penalty'),\n",
        "                                max_iter=8000, \n",
        "                                random_state=1)\n",
        "bestLog_pipe=Pipeline(steps=[(\"Col\", columnasTransformer),(\"model\", bestLogmodel)])\n",
        "kfold_bestLog=RepeatedStratifiedKFold(n_splits=5, n_repeats=3, random_state=7)\n",
        "train_size_bestLog=np.linspace(0.1, 1.0, 20)\n",
        "tr_sizes, tr_scores, val_scores = learning_curve(estimator = bestLog_pipe ,    \n",
        "                                                        X = X_tv,\n",
        "                                                        y = y_tv,\n",
        "                                                        cv = kfold_bestLog ,\n",
        "                                                        train_sizes = train_size_bestLog ,\n",
        "                                                        random_state=10,\n",
        "                                                        scoring=make_scorer(mi_f1score))\n",
        "\n",
        "mi_LearningCurvePlot(tr_sizes, tr_scores, val_scores)\n"
      ],
      "metadata": {
        "colab": {
          "base_uri": "https://localhost:8080/",
          "height": 404
        },
        "id": "EF0Q1A1t5g8R",
        "outputId": "d48a3689-8c02-4669-b62a-076ed463faf9"
      },
      "execution_count": 43,
      "outputs": [
        {
          "output_type": "display_data",
          "data": {
            "text/plain": [
              "<Figure size 504x432 with 1 Axes>"
            ],
            "image/png": "[encoded data removed]"
          },
          "metadata": {
            "needs_background": "light"
          }
        }
      ]
    },
    {
      "cell_type": "markdown",
      "source": [
        "c. Para el modelo de árbol de decisión (decision tree) realizar el entrenamiento buscando \n",
        "sus mejores hiperparámetros con GridSearchCV(). Los hiperparámetros que debes incluir \n",
        "en su búsqueda deben ser al menos los siguientes: ccp_alpha, criterion, max_depth, \n",
        "min_samples_split y class_weight. En este caso deberás usar la métrica (scoring) \n",
        "“precision”. Imprime la mejor combinación de parámetros obtenidos, así como el valor \n",
        "del mejor desempeño (score) obtenido con la métrica “precision”. ¿Cuál es la utilidad de \n",
        "la métrica “precision”? Incluye tus conclusiones. "
      ],
      "metadata": {
        "id": "g9V0oxN35iCp"
      }
    },
    {
      "cell_type": "code",
      "source": [
        "modelo_arbol=DecisionTreeClassifier() \n",
        "modelo_arbol_pipe=Pipeline(steps=[(\"Col\", columnasTransformer),(\"model\", modelo_arbol)])\n",
        "arbol_kfold=RepeatedStratifiedKFold(n_splits=5, n_repeats=3, random_state=7) \n",
        "\n",
        "paramgr = {'model__ccp_alpha':[0.01, 0.001, .0001, .00001,.000001,.0000001],  \n",
        "              'model__criterion': ['gini', 'entropy'], \n",
        "              'model__max_depth':[2, 4, 6, 8, 10, 12], \n",
        "              'model__min_samples_split':[2, 4, 6,8,10], \n",
        "              'model__class_weight': ['balanced', None]}\n",
        "\n",
        "gridarbol=GridSearchCV(estimator=modelo_arbol_pipe,\n",
        "                       param_grid=paramgr,\n",
        "                       scoring=make_scorer(mi_precission),\n",
        "                       cv=arbol_kfold)\n",
        "gridarbol.fit(X_tv,np.ravel(y_tv))        "
      ],
      "metadata": {
        "colab": {
          "base_uri": "https://localhost:8080/"
        },
        "id": "mh5FveLh5k0b",
        "outputId": "0b6ef2f7-6214-4b68-f19d-9ff5bcbf4d0f"
      },
      "execution_count": 44,
      "outputs": [
        {
          "output_type": "execute_result",
          "data": {
            "text/plain": [
              "GridSearchCV(cv=RepeatedStratifiedKFold(n_repeats=3, n_splits=5, random_state=7),\n",
              "             estimator=Pipeline(steps=[('Col',\n",
              "                                        ColumnTransformer(transformers=[('numpipe',\n",
              "                                                                         Pipeline(steps=[('Mednum',\n",
              "                                                                                          SimpleImputer(strategy='median')),\n",
              "                                                                                         ('Stdnum',\n",
              "                                                                                          StandardScaler())]),\n",
              "                                                                         ['duration',\n",
              "                                                                          'amount',\n",
              "                                                                          'age']),\n",
              "                                                                        ('catpipe',\n",
              "                                                                         Pipeline(steps=[('Modacat',\n",
              "                                                                                          SimpleImputer(strategy='most_frequent'...\n",
              "                                                                                          OneHotEncoder(handle_unknown='ignore'))]),\n",
              "                                                                         ['people_liable',\n",
              "                                                                          'telephone',\n",
              "                                                                          'foreign_worker'])])),\n",
              "                                       ('model', DecisionTreeClassifier())]),\n",
              "             param_grid={'model__ccp_alpha': [0.01, 0.001, 0.0001, 1e-05, 1e-06,\n",
              "                                              1e-07],\n",
              "                         'model__class_weight': ['balanced', None],\n",
              "                         'model__criterion': ['gini', 'entropy'],\n",
              "                         'model__max_depth': [2, 4, 6, 8, 10, 12],\n",
              "                         'model__min_samples_split': [2, 4, 6, 8, 10]},\n",
              "             scoring=make_scorer(mi_precission))"
            ]
          },
          "metadata": {},
          "execution_count": 44
        }
      ]
    },
    {
      "cell_type": "code",
      "source": [
        "print(\"El mejor resultado es:\",gridarbol.best_score_)\n",
        "print(\"El mejor parámetro es:\",gridarbol.best_params_)"
      ],
      "metadata": {
        "id": "AtE7dQPOMtL-",
        "outputId": "c9bb8f06-fd2c-4dd7-aa92-07cfae461a22",
        "colab": {
          "base_uri": "https://localhost:8080/"
        }
      },
      "execution_count": 45,
      "outputs": [
        {
          "output_type": "stream",
          "name": "stdout",
          "text": [
            "El mejor resultado es: 0.8635458650693388\n",
            "El mejor parámetro es: {'model__ccp_alpha': 0.0001, 'model__class_weight': 'balanced', 'model__criterion': 'entropy', 'model__max_depth': 4, 'model__min_samples_split': 8}\n"
          ]
        }
      ]
    },
    {
      "cell_type": "markdown",
      "source": [
        "d. Con los mejores valores de los hiperparámetros encontrados con la métrica “precision” \n",
        "para el modelo de árbol de decisión, obtener las curvas de aprendizaje (learning curve), \n",
        "incrementando el tamaño del conjunto de entrenamiento al menos 20 veces. Si lo crees \n",
        "adecuado, puedes hacer los ajustes que consideres adecuados para mejorar el resultado y \n",
        "evitar el sobreentrenamiento o el subentrenamiento."
      ],
      "metadata": {
        "id": "b2jKOcYX5lJz"
      }
    },
    {
      "cell_type": "code",
      "source": [
        "modeload = DecisionTreeClassifier(ccp_alpha=gridarbol.best_params_.get('model__ccp_alpha'),\n",
        "                                    criterion=gridarbol.best_params_.get('model__criterion'),\n",
        "                                    max_depth=gridarbol.best_params_.get('model__max_depth'),\n",
        "                                    min_samples_split=gridarbol.best_params_.get('model__min_samples_split'))\n",
        "\n",
        "ad_pipe = Pipeline(steps=[(\"Colum Transformer\", columnasTransformer),(\"ModeloDecisionTree\", modeload)])\n",
        "ad_kfold = RepeatedStratifiedKFold(n_splits=5, n_repeats=3, random_state=7)  \n",
        "delta_train_sz = np.linspace(.1, 1, 40) \n",
        "tr_sizes, tr_scores, val_scores = learning_curve(estimator = ad_pipe ,    \n",
        "                                                      X = X_tv,\n",
        "                                                      y = y_tv,\n",
        "                                                      cv = ad_kfold ,\n",
        "                                                      train_sizes = delta_train_sz ,\n",
        "                                                      random_state=10,\n",
        "                                                      scoring=make_scorer(mi_precission)) \n",
        "\n",
        "mi_LearningCurvePlot(tr_sizes, tr_scores, val_scores)"
      ],
      "metadata": {
        "colab": {
          "base_uri": "https://localhost:8080/",
          "height": 404
        },
        "id": "oS2FxH2U5mP4",
        "outputId": "beb83c69-d106-4e57-b26e-fc1980db63c4"
      },
      "execution_count": 47,
      "outputs": [
        {
          "output_type": "display_data",
          "data": {
            "text/plain": [
              "<Figure size 504x432 with 1 Axes>"
            ],
            "image/png": "[encoded data removed]"
          },
          "metadata": {
            "needs_background": "light"
          }
        }
      ]
    },
    {
      "cell_type": "markdown",
      "source": [
        "e. Para el modelo de bosque aleatorio (random forest) realizar el entrenamiento buscando \n",
        "sus mejores hiperparámetros con GridSearchCV(). Los hiperparámetros que debes incluir \n",
        "en su búsqueda deben ser al menos los siguientes: ccp_alpha, criterion, max_depth, \n",
        "min_samples_split y class_weight. En este caso deberás usar la métrica (scoring) “recall”. \n",
        "Imprime la mejor combinación de parámetros obtenidos, así como el valor del mejor \n",
        "desempeño (score) obtenido con la métrica “recall”. ¿Cuál es la utilidad de la métrica \n",
        "“recall”? Incluye tus conclusiones. \n",
        "NOTA: Toma en cuenta que el método de random forest pude tardar varios minutos en \n",
        "llevar a cabo "
      ],
      "metadata": {
        "id": "XJ7vuVAP5rNI"
      }
    },
    {
      "cell_type": "code",
      "source": [
        "modelo_rf=RandomForestClassifier() \n",
        "modelo_rf_pipe=Pipeline(steps=[(\"Col\", columnasTransformer),(\"model\", modelo_rf)])\n",
        "rf_kfold=RepeatedStratifiedKFold(n_splits=5, n_repeats=3, random_state=7) \n",
        "\n",
        "# paramgr = {'model__max_depth':[1,2,3,4,5],  \n",
        "#               'model__criterion': [\"gini\", \"entropy\", \"log_loss\"], \n",
        "#               'model__ccp_alpha':[2, 4, 6, 8, 10, 12], \n",
        "#               'model__min_samples_split':[2, 4, 6,8,10], \n",
        "#               'model__class_weight': ['balanced',\"balanced_subsample\", None]\n",
        "#            }\n",
        "\n",
        "paramgr=[\n",
        "    {\"max_depth\":[1,2,3,4,5], \n",
        "     \"criterion\":[\"gini\", \"entropy\", \"log_loss\"],\n",
        "     \"ccp_alpha\":[0.01,0.001,0.0001,0.00001],\n",
        "     \"min_samples_split\":[2, 4, 6,8,10],\n",
        "     \"class_weight\": ['balanced',\"balanced_subsample\", None]\n",
        "     }\n",
        "]\n",
        "\n",
        "gridrf=GridSearchCV(estimator=modelo_rf,\n",
        "                       param_grid=paramgr,\n",
        "                       scoring=make_scorer(mi_recall),\n",
        "                       cv=rf_kfold)\n",
        "gridrf.fit(X_tv, np.ravel(y_tv))       "
      ],
      "metadata": {
        "colab": {
          "base_uri": "https://localhost:8080/"
        },
        "id": "FXiO3bt85wNb",
        "outputId": "4a434932-d3ca-4352-8fdb-36a6a0f95342"
      },
      "execution_count": 61,
      "outputs": [
        {
          "output_type": "stream",
          "name": "stderr",
          "text": [
            "/usr/local/lib/python3.7/dist-packages/sklearn/model_selection/_validation.py:372: FitFailedWarning: \n",
            "4500 fits failed out of a total of 13500.\n",
            "The score on these train-test partitions for these parameters will be set to nan.\n",
            "If these failures are not expected, you can try to debug them by setting error_score='raise'.\n",
            "\n",
            "Below are more details about the failures:\n",
            "--------------------------------------------------------------------------------\n",
            "4500 fits failed with the following error:\n",
            "Traceback (most recent call last):\n",
            "  File \"/usr/local/lib/python3.7/dist-packages/sklearn/model_selection/_validation.py\", line 680, in _fit_and_score\n",
            "    estimator.fit(X_train, y_train, **fit_params)\n",
            "  File \"/usr/local/lib/python3.7/dist-packages/sklearn/ensemble/_forest.py\", line 467, in fit\n",
            "    for i, t in enumerate(trees)\n",
            "  File \"/usr/local/lib/python3.7/dist-packages/joblib/parallel.py\", line 1085, in __call__\n",
            "    if self.dispatch_one_batch(iterator):\n",
            "  File \"/usr/local/lib/python3.7/dist-packages/joblib/parallel.py\", line 901, in dispatch_one_batch\n",
            "    self._dispatch(tasks)\n",
            "  File \"/usr/local/lib/python3.7/dist-packages/joblib/parallel.py\", line 819, in _dispatch\n",
            "    job = self._backend.apply_async(batch, callback=cb)\n",
            "  File \"/usr/local/lib/python3.7/dist-packages/joblib/_parallel_backends.py\", line 208, in apply_async\n",
            "    result = ImmediateResult(func)\n",
            "  File \"/usr/local/lib/python3.7/dist-packages/joblib/_parallel_backends.py\", line 597, in __init__\n",
            "    self.results = batch()\n",
            "  File \"/usr/local/lib/python3.7/dist-packages/joblib/parallel.py\", line 289, in __call__\n",
            "    for func, args, kwargs in self.items]\n",
            "  File \"/usr/local/lib/python3.7/dist-packages/joblib/parallel.py\", line 289, in <listcomp>\n",
            "    for func, args, kwargs in self.items]\n",
            "  File \"/usr/local/lib/python3.7/dist-packages/sklearn/utils/fixes.py\", line 216, in __call__\n",
            "    return self.function(*args, **kwargs)\n",
            "  File \"/usr/local/lib/python3.7/dist-packages/sklearn/ensemble/_forest.py\", line 185, in _parallel_build_trees\n",
            "    tree.fit(X, y, sample_weight=curr_sample_weight, check_input=False)\n",
            "  File \"/usr/local/lib/python3.7/dist-packages/sklearn/tree/_classes.py\", line 942, in fit\n",
            "    X_idx_sorted=X_idx_sorted,\n",
            "  File \"/usr/local/lib/python3.7/dist-packages/sklearn/tree/_classes.py\", line 352, in fit\n",
            "    criterion = CRITERIA_CLF[self.criterion](\n",
            "KeyError: 'log_loss'\n",
            "\n",
            "  warnings.warn(some_fits_failed_message, FitFailedWarning)\n",
            "/usr/local/lib/python3.7/dist-packages/sklearn/model_selection/_search.py:972: UserWarning: One or more of the test scores are non-finite: [0.65372929 0.67399231 0.66495276 0.64918103 0.65258035 0.6745098\n",
            " 0.67960405 0.6779661  0.67228315 0.67622846 0.6880169  0.6784741\n",
            " 0.68522053 0.68918957 0.67342259 0.6943123  0.69708494 0.69375682\n",
            " 0.70209372 0.69425533 0.69879884 0.69708494 0.69143522 0.70438684\n",
            " 0.70665622 0.66948678 0.65486873 0.66831411 0.65315957 0.67339885\n",
            " 0.68076722 0.68078147 0.68128946 0.68923705 0.68073399 0.69988606\n",
            " 0.70385985 0.70438209 0.70441533 0.69986232 0.7133979  0.71676874\n",
            " 0.71114276 0.71282818 0.70836538 0.72634952 0.72863315 0.7280207\n",
            " 0.7246736  0.72916489        nan        nan        nan        nan\n",
            "        nan        nan        nan        nan        nan        nan\n",
            "        nan        nan        nan        nan        nan        nan\n",
            "        nan        nan        nan        nan        nan        nan\n",
            "        nan        nan        nan 0.65588947 0.66098846 0.6457912\n",
            " 0.65656839 0.6632436  0.65992024 0.6666999  0.6813132  0.67120543\n",
            " 0.67398756 0.68302711 0.69256041 0.68186868 0.69201918 0.6824384\n",
            " 0.70271566 0.6919812  0.69483454 0.68977354 0.69150643 0.70270142\n",
            " 0.69651522 0.69768789 0.70499454 0.70160471 0.64809856 0.65590372\n",
            " 0.67737739 0.66939657 0.66668566 0.68353986 0.68128472 0.67682192\n",
            " 0.6801975  0.66836158 0.69878935 0.69488202 0.69428382 0.69934957\n",
            " 0.69708968 0.71507857 0.71115226 0.71622751 0.7072117  0.71681147\n",
            " 0.72917438 0.73084081 0.73873142 0.72911266 0.7246736         nan\n",
            "        nan        nan        nan        nan        nan        nan\n",
            "        nan        nan        nan        nan        nan        nan\n",
            "        nan        nan        nan        nan        nan        nan\n",
            "        nan        nan        nan        nan        nan        nan\n",
            " 1.         1.         1.         1.         1.         0.99943503\n",
            " 0.99831458 0.99831458 0.9988748  0.9988748  0.99155866 0.99211888\n",
            " 0.99154916 0.99324882 0.98930827 0.98591844 0.98760386 0.98423302\n",
            " 0.98310307 0.9876181  0.98029246 0.98312206 0.98309832 0.98197788\n",
            " 0.9814129  1.         1.         1.         1.         1.\n",
            " 0.99718938 0.99661966 0.99831458 0.99943978 0.99662916 0.98704838\n",
            " 0.98930827 0.98704363 0.98762285 0.98255709 0.97465223 0.97239709\n",
            " 0.97184162 0.97241134 0.96676162 0.96227983 0.95833927 0.96002469\n",
            " 0.95945022 0.9628353         nan        nan        nan        nan\n",
            "        nan        nan        nan        nan        nan        nan\n",
            "        nan        nan        nan        nan        nan        nan\n",
            "        nan        nan        nan        nan        nan        nan\n",
            "        nan        nan        nan 0.66724113 0.65943598 0.66835209\n",
            " 0.6672174  0.66832835 0.68471253 0.68751365 0.6852775  0.67792812\n",
            " 0.67841713 0.70490433 0.70610549 0.7021317  0.71732897 0.71171248\n",
            " 0.72972511 0.72802545 0.73195651 0.7302521  0.72353891 0.74382092\n",
            " 0.747714   0.75334473 0.75052936 0.74604282 0.66775388 0.65991549\n",
            " 0.67510801 0.66046622 0.6592983  0.68522528 0.68130371 0.6813132\n",
            " 0.68803589 0.69030527 0.70494706 0.69535679 0.70210796 0.70438209\n",
            " 0.70663248 0.72296444 0.72348668 0.72747947 0.71901913 0.73138204\n",
            " 0.75843422 0.75169254 0.74099131 0.74210226 0.74942791        nan\n",
            "        nan        nan        nan        nan        nan        nan\n",
            "        nan        nan        nan        nan        nan        nan\n",
            "        nan        nan        nan        nan        nan        nan\n",
            "        nan        nan        nan        nan        nan        nan\n",
            " 0.65363908 0.65428002 0.65533875 0.66830936 0.66435456 0.67739163\n",
            " 0.68642169 0.66946779 0.68805014 0.68072449 0.70946209 0.7105683\n",
            " 0.70830841 0.70155723 0.70945259 0.72916963 0.72240422 0.72576081\n",
            " 0.7308598  0.73256421 0.7572663  0.74831695 0.75506338 0.75165931\n",
            " 0.74997389 0.66665717 0.65992024 0.66382282 0.64976499 0.65813987\n",
            " 0.67790438 0.67564924 0.67906756 0.67171343 0.67961829 0.70381712\n",
            " 0.70441058 0.70384086 0.70269667 0.70493757 0.72631154 0.71902863\n",
            " 0.72635427 0.72582253 0.71958885 0.75732802 0.74380668 0.7477235\n",
            " 0.74546836 0.74434791        nan        nan        nan        nan\n",
            "        nan        nan        nan        nan        nan        nan\n",
            "        nan        nan        nan        nan        nan        nan\n",
            "        nan        nan        nan        nan        nan        nan\n",
            "        nan        nan        nan 1.         1.         1.\n",
            " 1.         1.         0.99493424 0.99605469 0.99606419 0.99548972\n",
            " 0.99550396 0.98027347 0.98140816 0.98198262 0.98028771 0.97635664\n",
            " 0.9600057  0.96452547 0.96507145 0.96451123 0.96340028 0.94033139\n",
            " 0.94536866 0.94257703 0.94595737 0.94932346 1.         1.\n",
            " 1.         1.         1.         0.99775436 0.99943978 0.99718938\n",
            " 0.99606419 0.99718464 0.9836633  0.98479799 0.98367754 0.98424726\n",
            " 0.98028771 0.96339078 0.96226084 0.96567915 0.9650762  0.96284005\n",
            " 0.94819826 0.95721407 0.94651284 0.94764753 0.9476238         nan\n",
            "        nan        nan        nan        nan        nan        nan\n",
            "        nan        nan        nan        nan        nan        nan\n",
            "        nan        nan        nan        nan        nan        nan\n",
            "        nan        nan        nan        nan        nan        nan\n",
            " 0.66102644 0.6672174  0.69816265 0.66160566 0.6537103  0.68579025\n",
            " 0.67787115 0.68916584 0.69256516 0.68741395 0.71170773 0.7032474\n",
            " 0.71343114 0.7010065  0.70945259 0.72687651 0.72519584 0.72409438\n",
            " 0.73024735 0.72127902 0.75842947 0.75730428 0.74830271 0.75446518\n",
            " 0.75392394 0.65818734 0.65429426 0.65205811 0.65426103 0.65764611\n",
            " 0.69085126 0.67569197 0.69200969 0.67901533 0.68239092 0.70552628\n",
            " 0.70273465 0.69485353 0.70383136 0.70549304 0.72974885 0.72975834\n",
            " 0.72354365 0.7156388  0.72355315 0.75393344 0.74941841 0.74383041\n",
            " 0.74998338 0.73930589        nan        nan        nan        nan\n",
            "        nan        nan        nan        nan        nan        nan\n",
            "        nan        nan        nan        nan        nan        nan\n",
            "        nan        nan        nan        nan        nan        nan\n",
            "        nan        nan        nan 0.66157243 0.66553672 0.66216114\n",
            " 0.65312159 0.67392584 0.67233537 0.6824289  0.68580924 0.68464606\n",
            " 0.68579974 0.70837962 0.71112852 0.71338841 0.70441533 0.70270142\n",
            " 0.72299293 0.72748421 0.72019181 0.72464986 0.72858092 0.75334948\n",
            " 0.75727104 0.75392394 0.74154679 0.742126   0.65765086 0.66491478\n",
            " 0.64582918 0.65537673 0.67006124 0.6773584  0.67455253 0.68239092\n",
            " 0.68748042 0.68636472 0.7021412  0.69990979 0.69821488 0.70045103\n",
            " 0.70102549 0.73085031 0.7280302  0.72465461 0.73308645 0.72016807\n",
            " 0.75222903 0.74718226 0.74266249 0.74099606 0.74551583        nan\n",
            "        nan        nan        nan        nan        nan        nan\n",
            "        nan        nan        nan        nan        nan        nan\n",
            "        nan        nan        nan        nan        nan        nan\n",
            "        nan        nan        nan        nan        nan        nan\n",
            " 1.         1.         1.         1.         1.         0.99717989\n",
            " 0.99606419 0.99493899 0.99437402 0.99607368 0.98423302 0.9825476\n",
            " 0.98029246 0.98422827 0.98198737 0.96565541 0.96452072 0.9628353\n",
            " 0.95888525 0.96170061 0.94764279 0.94030765 0.94764753 0.94875849\n",
            " 0.94593363 1.         1.         1.         1.         1.\n",
            " 0.99775436 0.99606419 0.99662441 0.99774961 0.99831458 0.9825476\n",
            " 0.98480273 0.98309358 0.98198262 0.98592318 0.96395575 0.96847553\n",
            " 0.96114039 0.96847078 0.96734083 0.95212933 0.94987893 0.95043916\n",
            " 0.94764279 0.95044391        nan        nan        nan        nan\n",
            "        nan        nan        nan        nan        nan        nan\n",
            "        nan        nan        nan        nan        nan        nan\n",
            "        nan        nan        nan        nan        nan        nan\n",
            "        nan        nan        nan 0.67735365 0.66548925 0.675635\n",
            " 0.66052794 0.67058349 0.68695343 0.69088924 0.6897403  0.67905806\n",
            " 0.6728861  0.71283293 0.69821013 0.70498979 0.69991929 0.70945734\n",
            " 0.72689076 0.72407539 0.72241846 0.72240896 0.73028059 0.75449366\n",
            " 0.74941841 0.74998813 0.75054361 0.74211176 0.66104069 0.6587808\n",
            " 0.67060723 0.67287186 0.65825381 0.67509377 0.68415705 0.68692494\n",
            " 0.67565399 0.67455253 0.7100413  0.70944785 0.70159047 0.70382662\n",
            " 0.70942886 0.73024735 0.73029958 0.72524332 0.72575607 0.72181551\n",
            " 0.75450316 0.74661729 0.74884394 0.74771875 0.74604757        nan\n",
            "        nan        nan        nan        nan        nan        nan\n",
            "        nan        nan        nan        nan        nan        nan\n",
            "        nan        nan        nan        nan        nan        nan\n",
            "        nan        nan        nan        nan        nan        nan\n",
            " 0.64582918 0.65995347 0.65822058 0.66160091 0.66896453 0.67512225\n",
            " 0.67850734 0.67911504 0.68750415 0.6914637  0.7100603  0.70492333\n",
            " 0.71226321 0.71003181 0.70326639 0.72409913 0.72350567 0.71904287\n",
            " 0.72130276 0.72804444 0.7505626  0.752794   0.75281774 0.74944215\n",
            " 0.74489864 0.66720315 0.6616199  0.66219437 0.67172293 0.65538147\n",
            " 0.68862935 0.68184494 0.68747567 0.66553198 0.68244315 0.70550729\n",
            " 0.7043631  0.70664198 0.69648673 0.6998908  0.72354365 0.72410388\n",
            " 0.72183924 0.71448986 0.72183924 0.74884394 0.74211651 0.74490339\n",
            " 0.73984713 0.74830746        nan        nan        nan        nan\n",
            "        nan        nan        nan        nan        nan        nan\n",
            "        nan        nan        nan        nan        nan        nan\n",
            "        nan        nan        nan        nan        nan        nan\n",
            "        nan        nan        nan 1.         1.         1.\n",
            " 1.         1.         0.99662916 0.99549447 0.99662441 0.99550396\n",
            " 0.99775436 0.97915776 0.98084793 0.9814224  0.98479324 0.9814224\n",
            " 0.96509044 0.96449699 0.96171011 0.96226558 0.96001519 0.94480368\n",
            " 0.94876323 0.94932346 0.9493377  0.95044865 1.         1.\n",
            " 1.         1.         1.         0.99775436 0.99606419 0.99662916\n",
            " 0.99719413 0.99887955 0.98423776 0.98648815 0.9876086  0.98311731\n",
            " 0.98592793 0.9650857  0.96284005 0.9628353  0.97070693 0.96733134\n",
            " 0.95270379 0.94651284 0.95044391 0.94989318 0.94648436        nan\n",
            "        nan        nan        nan        nan        nan        nan\n",
            "        nan        nan        nan        nan        nan        nan\n",
            "        nan        nan        nan        nan        nan        nan\n",
            "        nan        nan        nan        nan        nan        nan]\n",
            "  category=UserWarning,\n"
          ]
        },
        {
          "output_type": "execute_result",
          "data": {
            "text/plain": [
              "GridSearchCV(cv=RepeatedStratifiedKFold(n_repeats=3, n_splits=5, random_state=7),\n",
              "             estimator=RandomForestClassifier(),\n",
              "             param_grid=[{'ccp_alpha': [0.01, 0.001, 0.0001, 1e-05],\n",
              "                          'class_weight': ['balanced', 'balanced_subsample',\n",
              "                                           None],\n",
              "                          'criterion': ['gini', 'entropy', 'log_loss'],\n",
              "                          'max_depth': [1, 2, 3, 4, 5],\n",
              "                          'min_samples_split': [2, 4, 6, 8, 10]}],\n",
              "             scoring=make_scorer(mi_recall))"
            ]
          },
          "metadata": {},
          "execution_count": 61
        }
      ]
    },
    {
      "cell_type": "code",
      "source": [
        "print(\"El mejor resultado es:\",gridrf.best_score_)\n",
        "print(\"El mejor parámetro es:\",gridrf.best_params_)"
      ],
      "metadata": {
        "id": "PfrGV9c0SxJI",
        "outputId": "b15ce9d2-6c15-4aae-8aae-7089be7eda24",
        "colab": {
          "base_uri": "https://localhost:8080/"
        }
      },
      "execution_count": 62,
      "outputs": [
        {
          "output_type": "stream",
          "name": "stdout",
          "text": [
            "El mejor resultado es: 1.0\n",
            "El mejor parámetro es: {'ccp_alpha': 0.01, 'class_weight': None, 'criterion': 'gini', 'max_depth': 1, 'min_samples_split': 2}\n"
          ]
        }
      ]
    },
    {
      "cell_type": "markdown",
      "source": [
        "f. Con los mejores valores de los hiperparámetros encontrados con la métrica “recall” para \n",
        "el modelo de bosque aleatorio, obtener las curvas de validación (validation curve), \n",
        "incrementando la complejidad del modelo a través del hiperparámetro “max_depth” con \n",
        "al menos 10 valores. Si lo crees adecuado, puedes hacer los ajustes que consideres \n",
        "adecuados para mejorar el resultado y evitar el sobreentrenamiento o el \n",
        "subentrenamiento. \n"
      ],
      "metadata": {
        "id": "wIK4QMjF5wwV"
      }
    },
    {
      "cell_type": "code",
      "source": [
        "modelo_best_RF = RandomForestClassifier(ccp_alpha=gridrf.best_params_.get('ccp_alpha'),\n",
        "                                 criterion=gridrf.best_params_.get('criterion'),\n",
        "                                 max_depth=10,\n",
        "                                 min_samples_split=gridrf.best_params_.get('min_samples_split'))\n",
        "mi_pipe = Pipeline(steps=[(\"PreparaInfo\", columnasTransformer),(\"ModeloRandomForest\", modelo_best_RF)])\n",
        "mi_kfold = RepeatedStratifiedKFold(n_splits=5, n_repeats=3) \n",
        "delta_train_sz = np.linspace(1,20,20, dtype=int) \n",
        "\n",
        "\n",
        "\n",
        "tr_scores, val_scores = validation_curve(n_jobs = 2, \n",
        "                                  estimator = mi_pipe, \n",
        "                                  X = X_tv,\n",
        "                                  y = np.ravel(y_tv),\n",
        "                                  param_name = f\"ModeloRandomForest__max_depth\", \n",
        "                                  param_range = delta_train_sz,\n",
        "                                  cv = mi_kfold, \n",
        "                                  scoring = 'recall',\n",
        "                                \n",
        "                                  )\n",
        "mi_LearningCurvePlot(delta_train_sz, tr_scores, val_scores)"
      ],
      "metadata": {
        "id": "KBdp-poFkJhi",
        "outputId": "06e1f5f8-ac37-43a1-84e7-fff847a1bd87",
        "colab": {
          "base_uri": "https://localhost:8080/",
          "height": 404
        }
      },
      "execution_count": 74,
      "outputs": [
        {
          "output_type": "display_data",
          "data": {
            "text/plain": [
              "<Figure size 504x432 with 1 Axes>"
            ],
            "image/png": "[encoded data removed]"
          },
          "metadata": {
            "needs_background": "light"
          }
        }
      ]
    }
  ]
}